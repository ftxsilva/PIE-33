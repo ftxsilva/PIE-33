{
  "nbformat": 4,
  "nbformat_minor": 0,
  "metadata": {
    "colab": {
      "name": "Isolation Forest.ipynb",
      "provenance": [],
      "collapsed_sections": [],
      "include_colab_link": true
    },
    "kernelspec": {
      "name": "python3",
      "display_name": "Python 3"
    },
    "accelerator": "GPU"
  },
  "cells": [
    {
      "cell_type": "markdown",
      "metadata": {
        "id": "view-in-github",
        "colab_type": "text"
      },
      "source": [
        "<a href=\"https://colab.research.google.com/github/ftxsilva/PIE-33/blob/master/Isolation_Forest.ipynb\" target=\"_parent\"><img src=\"https://colab.research.google.com/assets/colab-badge.svg\" alt=\"Open In Colab\"/></a>"
      ]
    },
    {
      "cell_type": "markdown",
      "metadata": {
        "id": "jtP5onCU4EBs",
        "colab_type": "text"
      },
      "source": [
        "# Détection d'anomalie non supervisée\n",
        "## Isolation Forest\n",
        "\n",
        "Le but de cette partie est d'au cours de les postes de controle identifier les mesures hors norme. \n",
        "\n",
        "À la fin, nous auron pour chaque poste de contrôle une précision donné pour laquel les mauvaises pièces sont identifiés\n",
        "\n",
        "\n"
      ]
    },
    {
      "cell_type": "markdown",
      "metadata": {
        "id": "fkgILTa84u-r",
        "colab_type": "text"
      },
      "source": [
        "## Télécharger des libraries\n",
        "\n"
      ]
    },
    {
      "cell_type": "code",
      "metadata": {
        "id": "yC0KeQyC6-cy",
        "colab_type": "code",
        "colab": {}
      },
      "source": [
        "import numpy as np\n",
        "import pandas as pd\n",
        "import matplotlib.pyplot as plt\n",
        "%matplotlib inline\n",
        "from sklearn import preprocessing\n",
        "import io\n",
        "import collections\n",
        "from sklearn.model_selection import train_test_split\n",
        "from sklearn.ensemble import IsolationForest\n",
        "import copy"
      ],
      "execution_count": null,
      "outputs": []
    },
    {
      "cell_type": "markdown",
      "metadata": {
        "id": "IVUFfxLK45Uu",
        "colab_type": "text"
      },
      "source": [
        "## Télécharger le jeu des données\n",
        "\n",
        "Dans ce contexte nous ne regardons que les variables numériques.\n"
      ]
    },
    {
      "cell_type": "code",
      "metadata": {
        "id": "iJMN1X0O5Gnz",
        "colab_type": "code",
        "colab": {}
      },
      "source": [
        "dataframe = pd.read_csv('Data_Anomaly.csv' , sep=',',decimal=b'.')\n",
        "dataframe.head()"
      ],
      "execution_count": null,
      "outputs": []
    },
    {
      "cell_type": "code",
      "metadata": {
        "id": "Yfrh4Geq3air",
        "colab_type": "code",
        "colab": {
          "base_uri": "https://localhost:8080/",
          "height": 121
        },
        "outputId": "8d73e194-2751-4e3f-bdd2-40e4f18db9ac"
      },
      "source": [
        "# # Si vous voulez utiliser google drive\n",
        "# from google.colab import drive\n",
        "# drive.mount('/content/drive')\n",
        "# dataframe =  pd.read_csv('/content/drive/My Drive/PIE - 33/Détection d\\'Anomalies/Data_Anomaly.csv', sep=',',decimal=b'.')"
      ],
      "execution_count": null,
      "outputs": [
        {
          "output_type": "stream",
          "text": [
            "Go to this URL in a browser: https://accounts.google.com/o/oauth2/auth?client_id=947318989803-6bn6qk8qdgf4n4g3pfee6491hc0brc4i.apps.googleusercontent.com&redirect_uri=urn%3aietf%3awg%3aoauth%3a2.0%3aoob&response_type=code&scope=email%20https%3a%2f%2fwww.googleapis.com%2fauth%2fdocs.test%20https%3a%2f%2fwww.googleapis.com%2fauth%2fdrive%20https%3a%2f%2fwww.googleapis.com%2fauth%2fdrive.photos.readonly%20https%3a%2f%2fwww.googleapis.com%2fauth%2fpeopleapi.readonly\n",
            "\n",
            "Enter your authorization code:\n",
            "··········\n",
            "Mounted at /content/drive\n"
          ],
          "name": "stdout"
        }
      ]
    },
    {
      "cell_type": "markdown",
      "metadata": {
        "id": "xrpuh1IX-8w8",
        "colab_type": "text"
      },
      "source": [
        "GET FLOAT VALUES"
      ]
    },
    {
      "cell_type": "code",
      "metadata": {
        "id": "UaEomMgE8XMx",
        "colab_type": "code",
        "colab": {
          "base_uri": "https://localhost:8080/",
          "height": 383
        },
        "outputId": "3667a56f-363f-4b75-febc-36d09929bfcc"
      },
      "source": [
        "for name in dataframe.columns:\n",
        "    l = np.array(dataframe[name])\n",
        "    if len(collections.Counter(l)) == 1:\n",
        "        dataframe.drop(name,1, inplace = True)\n",
        "\n",
        "print('Unique types of variables: ', dataframe.dtypes.unique())\n",
        "floats = dataframe.select_dtypes('float64')\n",
        "categories = dataframe.select_dtypes('O')\n",
        "ints = dataframe.select_dtypes('int64')\n",
        "\n",
        "len(categories.columns) + len(floats.columns) == len(dataframe.columns)\n",
        "print('# of columns: ', len(dataframe.columns))\n",
        "print('# of Categorical columns: ', len(categories.columns))\n",
        "print('# of Float columns: ', len(floats.columns))\n",
        "print('# of Int columns: ', len(ints.columns))\n",
        "floats.head()"
      ],
      "execution_count": null,
      "outputs": [
        {
          "output_type": "stream",
          "text": [
            "Unique types of variables:  [dtype('float64') dtype('int64')]\n",
            "# of columns:  62\n",
            "# of Categorical columns:  0\n",
            "# of Float columns:  39\n",
            "# of Int columns:  23\n"
          ],
          "name": "stdout"
        },
        {
          "output_type": "execute_result",
          "data": {
            "text/html": [
              "<div>\n",
              "<style scoped>\n",
              "    .dataframe tbody tr th:only-of-type {\n",
              "        vertical-align: middle;\n",
              "    }\n",
              "\n",
              "    .dataframe tbody tr th {\n",
              "        vertical-align: top;\n",
              "    }\n",
              "\n",
              "    .dataframe thead th {\n",
              "        text-align: right;\n",
              "    }\n",
              "</style>\n",
              "<table border=\"1\" class=\"dataframe\">\n",
              "  <thead>\n",
              "    <tr style=\"text-align: right;\">\n",
              "      <th></th>\n",
              "      <th>E24E25E37 IntercalaireFroid Longueur Mesuree LM/100plis</th>\n",
              "      <th>E24E25E37 IntercalaireFroid Longueur Mesuree LM/100plis Max</th>\n",
              "      <th>E24E25E37 IntercalaireFroid Longueur Mesuree LM/100plis Min</th>\n",
              "      <th>E24E25E37 IntercalaireFroid hauteur apres calibrage droit</th>\n",
              "      <th>E24E25E37 IntercalaireFroid hauteur apres calibrage droit Max</th>\n",
              "      <th>E24E25E37 IntercalaireFroid hauteur apres calibrage droit Min</th>\n",
              "      <th>E24E25E37 IntercalaireFroid hauteur apres calibrage gauche</th>\n",
              "      <th>E24E25E37 IntercalaireFroid hauteur apres calibrage gauche Min</th>\n",
              "      <th>E24E25E37 IntercalaireFroid hauteur apres calibrage milieu</th>\n",
              "      <th>E24E25E37 IntercalaireFroid hauteur apres calibrage milieu Max</th>\n",
              "      <th>E24E25E37 IntercalaireFroid hauteur apres calibrage milieu Min</th>\n",
              "      <th>E24E25E37 IntercalaireFroid hauteur sorti formage droit</th>\n",
              "      <th>E24E25E37 IntercalaireFroid hauteur sorti formage droit Max</th>\n",
              "      <th>E24E25E37 IntercalaireFroid hauteur sorti formage droit Min</th>\n",
              "      <th>E24E25E37 IntercalaireFroid hauteur sorti formage gauche</th>\n",
              "      <th>E24E25E37 IntercalaireFroid hauteur sorti formage gauche Max</th>\n",
              "      <th>E24E25E37 IntercalaireFroid hauteur sorti formage gauche Min</th>\n",
              "      <th>E24E25E37 IntercalaireFroid hauteur sorti formage milieu</th>\n",
              "      <th>E24E25E37 IntercalaireFroid hauteur sorti formage milieu Max</th>\n",
              "      <th>E24E25E37 IntercalaireFroid hauteur sorti formage milieu Min</th>\n",
              "      <th>E24E25E37 IntercalaireFroid largeur de bande</th>\n",
              "      <th>E24E25E37 IntercalaireFroid largeur de bande Max</th>\n",
              "      <th>E24E25E37 IntercalaireFroid largeur de bande Min</th>\n",
              "      <th>E24E25E37 IntercalaireFroid largeur de passe (longueur)</th>\n",
              "      <th>E24E25E37 IntercalaireFroid largeur de passe (longueur) Min</th>\n",
              "      <th>E24E25E37 IntercalaireFroid pic et creux local dessous</th>\n",
              "      <th>E24E25E37 IntercalaireFroid pic et creux local dessous Max</th>\n",
              "      <th>E24E25E37 IntercalaireFroid pic et creux local dessous Min</th>\n",
              "      <th>E24E25E37 IntercalaireFroid pic et creux local dessus</th>\n",
              "      <th>E24E25E37 IntercalaireFroid pic et creux local dessus Max</th>\n",
              "      <th>E24E25E37 IntercalaireFroid pic et creux local dessus Min</th>\n",
              "      <th>E45E35E36 P &lt; 6.6 10-5mbar 1</th>\n",
              "      <th>E45E35E36 P &lt; 6.6 10-5mbar 2</th>\n",
              "      <th>E49 Hauteur maximale</th>\n",
              "      <th>E49 Hauteur minimale</th>\n",
              "      <th>E49 Masse &lt;=15.3kg</th>\n",
              "      <th>E49 Perpendicularité passe chaude</th>\n",
              "      <th>E49 Perpendicularité passe froide</th>\n",
              "      <th>E66 valeur de fuite  premier essai</th>\n",
              "    </tr>\n",
              "  </thead>\n",
              "  <tbody>\n",
              "    <tr>\n",
              "      <th>0</th>\n",
              "      <td>257.957143</td>\n",
              "      <td>259.0</td>\n",
              "      <td>255.0</td>\n",
              "      <td>10.969843</td>\n",
              "      <td>10.98</td>\n",
              "      <td>10.95</td>\n",
              "      <td>10.964994</td>\n",
              "      <td>10.95</td>\n",
              "      <td>10.968014</td>\n",
              "      <td>10.98</td>\n",
              "      <td>10.95</td>\n",
              "      <td>11.04175</td>\n",
              "      <td>11.045</td>\n",
              "      <td>11.037</td>\n",
              "      <td>11.044</td>\n",
              "      <td>11.045</td>\n",
              "      <td>11.041</td>\n",
              "      <td>11.0055</td>\n",
              "      <td>11.009</td>\n",
              "      <td>11.001</td>\n",
              "      <td>178.752499</td>\n",
              "      <td>178.759995</td>\n",
              "      <td>178.75</td>\n",
              "      <td>281.99157</td>\n",
              "      <td>279.799988</td>\n",
              "      <td>0.032871</td>\n",
              "      <td>0.056</td>\n",
              "      <td>0.012</td>\n",
              "      <td>0.0294</td>\n",
              "      <td>0.049</td>\n",
              "      <td>0.012</td>\n",
              "      <td>0.000028</td>\n",
              "      <td>0.00004</td>\n",
              "      <td>637.510010</td>\n",
              "      <td>636.989990</td>\n",
              "      <td>14.78</td>\n",
              "      <td>1.4</td>\n",
              "      <td>2.5</td>\n",
              "      <td>0.1</td>\n",
              "    </tr>\n",
              "    <tr>\n",
              "      <th>1</th>\n",
              "      <td>257.957143</td>\n",
              "      <td>259.0</td>\n",
              "      <td>255.0</td>\n",
              "      <td>10.969843</td>\n",
              "      <td>10.98</td>\n",
              "      <td>10.95</td>\n",
              "      <td>10.964994</td>\n",
              "      <td>10.95</td>\n",
              "      <td>10.968014</td>\n",
              "      <td>10.98</td>\n",
              "      <td>10.95</td>\n",
              "      <td>11.04175</td>\n",
              "      <td>11.045</td>\n",
              "      <td>11.037</td>\n",
              "      <td>11.044</td>\n",
              "      <td>11.045</td>\n",
              "      <td>11.041</td>\n",
              "      <td>11.0055</td>\n",
              "      <td>11.009</td>\n",
              "      <td>11.001</td>\n",
              "      <td>178.752499</td>\n",
              "      <td>178.759995</td>\n",
              "      <td>178.75</td>\n",
              "      <td>281.99157</td>\n",
              "      <td>279.799988</td>\n",
              "      <td>0.032871</td>\n",
              "      <td>0.056</td>\n",
              "      <td>0.012</td>\n",
              "      <td>0.0294</td>\n",
              "      <td>0.049</td>\n",
              "      <td>0.012</td>\n",
              "      <td>0.000028</td>\n",
              "      <td>0.00004</td>\n",
              "      <td>637.659973</td>\n",
              "      <td>637.309998</td>\n",
              "      <td>14.80</td>\n",
              "      <td>1.1</td>\n",
              "      <td>1.1</td>\n",
              "      <td>0.1</td>\n",
              "    </tr>\n",
              "    <tr>\n",
              "      <th>2</th>\n",
              "      <td>257.957143</td>\n",
              "      <td>259.0</td>\n",
              "      <td>255.0</td>\n",
              "      <td>10.969843</td>\n",
              "      <td>10.98</td>\n",
              "      <td>10.95</td>\n",
              "      <td>10.964994</td>\n",
              "      <td>10.95</td>\n",
              "      <td>10.968014</td>\n",
              "      <td>10.98</td>\n",
              "      <td>10.95</td>\n",
              "      <td>11.04175</td>\n",
              "      <td>11.045</td>\n",
              "      <td>11.037</td>\n",
              "      <td>11.044</td>\n",
              "      <td>11.045</td>\n",
              "      <td>11.041</td>\n",
              "      <td>11.0055</td>\n",
              "      <td>11.009</td>\n",
              "      <td>11.001</td>\n",
              "      <td>178.752499</td>\n",
              "      <td>178.759995</td>\n",
              "      <td>178.75</td>\n",
              "      <td>281.99157</td>\n",
              "      <td>279.799988</td>\n",
              "      <td>0.032871</td>\n",
              "      <td>0.056</td>\n",
              "      <td>0.012</td>\n",
              "      <td>0.0294</td>\n",
              "      <td>0.049</td>\n",
              "      <td>0.012</td>\n",
              "      <td>0.000028</td>\n",
              "      <td>0.00004</td>\n",
              "      <td>637.400024</td>\n",
              "      <td>637.080017</td>\n",
              "      <td>14.78</td>\n",
              "      <td>2.0</td>\n",
              "      <td>2.5</td>\n",
              "      <td>1.3</td>\n",
              "    </tr>\n",
              "    <tr>\n",
              "      <th>3</th>\n",
              "      <td>257.957143</td>\n",
              "      <td>259.0</td>\n",
              "      <td>255.0</td>\n",
              "      <td>10.969843</td>\n",
              "      <td>10.98</td>\n",
              "      <td>10.95</td>\n",
              "      <td>10.964994</td>\n",
              "      <td>10.95</td>\n",
              "      <td>10.968014</td>\n",
              "      <td>10.98</td>\n",
              "      <td>10.95</td>\n",
              "      <td>11.04175</td>\n",
              "      <td>11.045</td>\n",
              "      <td>11.037</td>\n",
              "      <td>11.044</td>\n",
              "      <td>11.045</td>\n",
              "      <td>11.041</td>\n",
              "      <td>11.0055</td>\n",
              "      <td>11.009</td>\n",
              "      <td>11.001</td>\n",
              "      <td>178.752499</td>\n",
              "      <td>178.759995</td>\n",
              "      <td>178.75</td>\n",
              "      <td>281.99157</td>\n",
              "      <td>279.799988</td>\n",
              "      <td>0.032871</td>\n",
              "      <td>0.056</td>\n",
              "      <td>0.012</td>\n",
              "      <td>0.0294</td>\n",
              "      <td>0.049</td>\n",
              "      <td>0.012</td>\n",
              "      <td>0.000028</td>\n",
              "      <td>0.00004</td>\n",
              "      <td>637.090027</td>\n",
              "      <td>636.719971</td>\n",
              "      <td>14.79</td>\n",
              "      <td>1.0</td>\n",
              "      <td>1.4</td>\n",
              "      <td>0.1</td>\n",
              "    </tr>\n",
              "    <tr>\n",
              "      <th>4</th>\n",
              "      <td>257.957143</td>\n",
              "      <td>259.0</td>\n",
              "      <td>255.0</td>\n",
              "      <td>10.969843</td>\n",
              "      <td>10.98</td>\n",
              "      <td>10.95</td>\n",
              "      <td>10.964994</td>\n",
              "      <td>10.95</td>\n",
              "      <td>10.968014</td>\n",
              "      <td>10.98</td>\n",
              "      <td>10.95</td>\n",
              "      <td>11.04175</td>\n",
              "      <td>11.045</td>\n",
              "      <td>11.037</td>\n",
              "      <td>11.044</td>\n",
              "      <td>11.045</td>\n",
              "      <td>11.041</td>\n",
              "      <td>11.0055</td>\n",
              "      <td>11.009</td>\n",
              "      <td>11.001</td>\n",
              "      <td>178.752499</td>\n",
              "      <td>178.759995</td>\n",
              "      <td>178.75</td>\n",
              "      <td>281.99157</td>\n",
              "      <td>279.799988</td>\n",
              "      <td>0.032871</td>\n",
              "      <td>0.056</td>\n",
              "      <td>0.012</td>\n",
              "      <td>0.0294</td>\n",
              "      <td>0.049</td>\n",
              "      <td>0.012</td>\n",
              "      <td>0.000028</td>\n",
              "      <td>0.00004</td>\n",
              "      <td>637.309998</td>\n",
              "      <td>637.289978</td>\n",
              "      <td>14.79</td>\n",
              "      <td>1.1</td>\n",
              "      <td>1.3</td>\n",
              "      <td>1.7</td>\n",
              "    </tr>\n",
              "  </tbody>\n",
              "</table>\n",
              "</div>"
            ],
            "text/plain": [
              "   E24E25E37 IntercalaireFroid Longueur Mesuree LM/100plis  ...  E66 valeur de fuite  premier essai\n",
              "0                                         257.957143        ...                                 0.1\n",
              "1                                         257.957143        ...                                 0.1\n",
              "2                                         257.957143        ...                                 1.3\n",
              "3                                         257.957143        ...                                 0.1\n",
              "4                                         257.957143        ...                                 1.7\n",
              "\n",
              "[5 rows x 39 columns]"
            ]
          },
          "metadata": {
            "tags": []
          },
          "execution_count": 3
        }
      ]
    },
    {
      "cell_type": "markdown",
      "metadata": {
        "id": "jVia_4QD5wzI",
        "colab_type": "text"
      },
      "source": [
        "Nous allons considérer comme pièces bonnes celles qui ont une valeur de fuíte infériure à 20."
      ]
    },
    {
      "cell_type": "code",
      "metadata": {
        "id": "MSyn1Rhf-8ca",
        "colab_type": "code",
        "colab": {
          "base_uri": "https://localhost:8080/",
          "height": 282
        },
        "outputId": "7c7bb31f-5206-42da-c080-01d85322dba5"
      },
      "source": [
        "'''\n",
        "    Training data\n",
        "'''\n",
        "# Selecting float dataset\n",
        "df = floats.iloc[:,:-1]\n",
        "vec = floats.iloc[:,-1].values\n",
        "#Les pièces bonnes reçoivent 1\n",
        "#Les pièces mauvaises reçoivent 0\n",
        "defect = vec > 20 #changer de critére ici\n",
        "df_defect = pd.DataFrame(defect, columns=['Classification']).astype('uint8')\n",
        "\n",
        "# Normalizing\n",
        "x = df\n",
        "min_max_scaler = preprocessing.MinMaxScaler()\n",
        "x_scaled = min_max_scaler.fit_transform(x)\n",
        "\n",
        "X = pd.DataFrame(x_scaled, columns=x.columns)\n",
        "y = df_defect.to_numpy()\n",
        "X.head()"
      ],
      "execution_count": null,
      "outputs": [
        {
          "output_type": "execute_result",
          "data": {
            "text/html": [
              "<div>\n",
              "<style scoped>\n",
              "    .dataframe tbody tr th:only-of-type {\n",
              "        vertical-align: middle;\n",
              "    }\n",
              "\n",
              "    .dataframe tbody tr th {\n",
              "        vertical-align: top;\n",
              "    }\n",
              "\n",
              "    .dataframe thead th {\n",
              "        text-align: right;\n",
              "    }\n",
              "</style>\n",
              "<table border=\"1\" class=\"dataframe\">\n",
              "  <thead>\n",
              "    <tr style=\"text-align: right;\">\n",
              "      <th></th>\n",
              "      <th>E24E25E37 IntercalaireFroid Longueur Mesuree LM/100plis</th>\n",
              "      <th>E24E25E37 IntercalaireFroid Longueur Mesuree LM/100plis Max</th>\n",
              "      <th>E24E25E37 IntercalaireFroid Longueur Mesuree LM/100plis Min</th>\n",
              "      <th>E24E25E37 IntercalaireFroid hauteur apres calibrage droit</th>\n",
              "      <th>E24E25E37 IntercalaireFroid hauteur apres calibrage droit Max</th>\n",
              "      <th>E24E25E37 IntercalaireFroid hauteur apres calibrage droit Min</th>\n",
              "      <th>E24E25E37 IntercalaireFroid hauteur apres calibrage gauche</th>\n",
              "      <th>E24E25E37 IntercalaireFroid hauteur apres calibrage gauche Min</th>\n",
              "      <th>E24E25E37 IntercalaireFroid hauteur apres calibrage milieu</th>\n",
              "      <th>E24E25E37 IntercalaireFroid hauteur apres calibrage milieu Max</th>\n",
              "      <th>E24E25E37 IntercalaireFroid hauteur apres calibrage milieu Min</th>\n",
              "      <th>E24E25E37 IntercalaireFroid hauteur sorti formage droit</th>\n",
              "      <th>E24E25E37 IntercalaireFroid hauteur sorti formage droit Max</th>\n",
              "      <th>E24E25E37 IntercalaireFroid hauteur sorti formage droit Min</th>\n",
              "      <th>E24E25E37 IntercalaireFroid hauteur sorti formage gauche</th>\n",
              "      <th>E24E25E37 IntercalaireFroid hauteur sorti formage gauche Max</th>\n",
              "      <th>E24E25E37 IntercalaireFroid hauteur sorti formage gauche Min</th>\n",
              "      <th>E24E25E37 IntercalaireFroid hauteur sorti formage milieu</th>\n",
              "      <th>E24E25E37 IntercalaireFroid hauteur sorti formage milieu Max</th>\n",
              "      <th>E24E25E37 IntercalaireFroid hauteur sorti formage milieu Min</th>\n",
              "      <th>E24E25E37 IntercalaireFroid largeur de bande</th>\n",
              "      <th>E24E25E37 IntercalaireFroid largeur de bande Max</th>\n",
              "      <th>E24E25E37 IntercalaireFroid largeur de bande Min</th>\n",
              "      <th>E24E25E37 IntercalaireFroid largeur de passe (longueur)</th>\n",
              "      <th>E24E25E37 IntercalaireFroid largeur de passe (longueur) Min</th>\n",
              "      <th>E24E25E37 IntercalaireFroid pic et creux local dessous</th>\n",
              "      <th>E24E25E37 IntercalaireFroid pic et creux local dessous Max</th>\n",
              "      <th>E24E25E37 IntercalaireFroid pic et creux local dessous Min</th>\n",
              "      <th>E24E25E37 IntercalaireFroid pic et creux local dessus</th>\n",
              "      <th>E24E25E37 IntercalaireFroid pic et creux local dessus Max</th>\n",
              "      <th>E24E25E37 IntercalaireFroid pic et creux local dessus Min</th>\n",
              "      <th>E45E35E36 P &lt; 6.6 10-5mbar 1</th>\n",
              "      <th>E45E35E36 P &lt; 6.6 10-5mbar 2</th>\n",
              "      <th>E49 Hauteur maximale</th>\n",
              "      <th>E49 Hauteur minimale</th>\n",
              "      <th>E49 Masse &lt;=15.3kg</th>\n",
              "      <th>E49 Perpendicularité passe chaude</th>\n",
              "      <th>E49 Perpendicularité passe froide</th>\n",
              "    </tr>\n",
              "  </thead>\n",
              "  <tbody>\n",
              "    <tr>\n",
              "      <th>0</th>\n",
              "      <td>0.841316</td>\n",
              "      <td>0.75</td>\n",
              "      <td>1.0</td>\n",
              "      <td>0.680382</td>\n",
              "      <td>1.0</td>\n",
              "      <td>0.526326</td>\n",
              "      <td>0.407519</td>\n",
              "      <td>0.624985</td>\n",
              "      <td>0.644343</td>\n",
              "      <td>1.0</td>\n",
              "      <td>0.55555</td>\n",
              "      <td>0.808333</td>\n",
              "      <td>0.613207</td>\n",
              "      <td>0.969998</td>\n",
              "      <td>0.783506</td>\n",
              "      <td>0.513271</td>\n",
              "      <td>1.0</td>\n",
              "      <td>0.636363</td>\n",
              "      <td>0.513888</td>\n",
              "      <td>0.728573</td>\n",
              "      <td>0.396468</td>\n",
              "      <td>0.199991</td>\n",
              "      <td>0.721159</td>\n",
              "      <td>0.367717</td>\n",
              "      <td>0.871787</td>\n",
              "      <td>0.508005</td>\n",
              "      <td>0.4375</td>\n",
              "      <td>0.466667</td>\n",
              "      <td>0.446054</td>\n",
              "      <td>0.475</td>\n",
              "      <td>0.411765</td>\n",
              "      <td>0.216867</td>\n",
              "      <td>0.177215</td>\n",
              "      <td>0.411514</td>\n",
              "      <td>0.465033</td>\n",
              "      <td>0.78</td>\n",
              "      <td>0.350</td>\n",
              "      <td>0.625</td>\n",
              "    </tr>\n",
              "    <tr>\n",
              "      <th>1</th>\n",
              "      <td>0.841316</td>\n",
              "      <td>0.75</td>\n",
              "      <td>1.0</td>\n",
              "      <td>0.680382</td>\n",
              "      <td>1.0</td>\n",
              "      <td>0.526326</td>\n",
              "      <td>0.407519</td>\n",
              "      <td>0.624985</td>\n",
              "      <td>0.644343</td>\n",
              "      <td>1.0</td>\n",
              "      <td>0.55555</td>\n",
              "      <td>0.808333</td>\n",
              "      <td>0.613207</td>\n",
              "      <td>0.969998</td>\n",
              "      <td>0.783506</td>\n",
              "      <td>0.513271</td>\n",
              "      <td>1.0</td>\n",
              "      <td>0.636363</td>\n",
              "      <td>0.513888</td>\n",
              "      <td>0.728573</td>\n",
              "      <td>0.396468</td>\n",
              "      <td>0.199991</td>\n",
              "      <td>0.721159</td>\n",
              "      <td>0.367717</td>\n",
              "      <td>0.871787</td>\n",
              "      <td>0.508005</td>\n",
              "      <td>0.4375</td>\n",
              "      <td>0.466667</td>\n",
              "      <td>0.446054</td>\n",
              "      <td>0.475</td>\n",
              "      <td>0.411765</td>\n",
              "      <td>0.216867</td>\n",
              "      <td>0.177215</td>\n",
              "      <td>0.466126</td>\n",
              "      <td>0.576922</td>\n",
              "      <td>0.80</td>\n",
              "      <td>0.275</td>\n",
              "      <td>0.275</td>\n",
              "    </tr>\n",
              "    <tr>\n",
              "      <th>2</th>\n",
              "      <td>0.841316</td>\n",
              "      <td>0.75</td>\n",
              "      <td>1.0</td>\n",
              "      <td>0.680382</td>\n",
              "      <td>1.0</td>\n",
              "      <td>0.526326</td>\n",
              "      <td>0.407519</td>\n",
              "      <td>0.624985</td>\n",
              "      <td>0.644343</td>\n",
              "      <td>1.0</td>\n",
              "      <td>0.55555</td>\n",
              "      <td>0.808333</td>\n",
              "      <td>0.613207</td>\n",
              "      <td>0.969998</td>\n",
              "      <td>0.783506</td>\n",
              "      <td>0.513271</td>\n",
              "      <td>1.0</td>\n",
              "      <td>0.636363</td>\n",
              "      <td>0.513888</td>\n",
              "      <td>0.728573</td>\n",
              "      <td>0.396468</td>\n",
              "      <td>0.199991</td>\n",
              "      <td>0.721159</td>\n",
              "      <td>0.367717</td>\n",
              "      <td>0.871787</td>\n",
              "      <td>0.508005</td>\n",
              "      <td>0.4375</td>\n",
              "      <td>0.466667</td>\n",
              "      <td>0.446054</td>\n",
              "      <td>0.475</td>\n",
              "      <td>0.411765</td>\n",
              "      <td>0.216867</td>\n",
              "      <td>0.177215</td>\n",
              "      <td>0.371460</td>\n",
              "      <td>0.496511</td>\n",
              "      <td>0.78</td>\n",
              "      <td>0.500</td>\n",
              "      <td>0.625</td>\n",
              "    </tr>\n",
              "    <tr>\n",
              "      <th>3</th>\n",
              "      <td>0.841316</td>\n",
              "      <td>0.75</td>\n",
              "      <td>1.0</td>\n",
              "      <td>0.680382</td>\n",
              "      <td>1.0</td>\n",
              "      <td>0.526326</td>\n",
              "      <td>0.407519</td>\n",
              "      <td>0.624985</td>\n",
              "      <td>0.644343</td>\n",
              "      <td>1.0</td>\n",
              "      <td>0.55555</td>\n",
              "      <td>0.808333</td>\n",
              "      <td>0.613207</td>\n",
              "      <td>0.969998</td>\n",
              "      <td>0.783506</td>\n",
              "      <td>0.513271</td>\n",
              "      <td>1.0</td>\n",
              "      <td>0.636363</td>\n",
              "      <td>0.513888</td>\n",
              "      <td>0.728573</td>\n",
              "      <td>0.396468</td>\n",
              "      <td>0.199991</td>\n",
              "      <td>0.721159</td>\n",
              "      <td>0.367717</td>\n",
              "      <td>0.871787</td>\n",
              "      <td>0.508005</td>\n",
              "      <td>0.4375</td>\n",
              "      <td>0.466667</td>\n",
              "      <td>0.446054</td>\n",
              "      <td>0.475</td>\n",
              "      <td>0.411765</td>\n",
              "      <td>0.216867</td>\n",
              "      <td>0.177215</td>\n",
              "      <td>0.258569</td>\n",
              "      <td>0.370623</td>\n",
              "      <td>0.79</td>\n",
              "      <td>0.250</td>\n",
              "      <td>0.350</td>\n",
              "    </tr>\n",
              "    <tr>\n",
              "      <th>4</th>\n",
              "      <td>0.841316</td>\n",
              "      <td>0.75</td>\n",
              "      <td>1.0</td>\n",
              "      <td>0.680382</td>\n",
              "      <td>1.0</td>\n",
              "      <td>0.526326</td>\n",
              "      <td>0.407519</td>\n",
              "      <td>0.624985</td>\n",
              "      <td>0.644343</td>\n",
              "      <td>1.0</td>\n",
              "      <td>0.55555</td>\n",
              "      <td>0.808333</td>\n",
              "      <td>0.613207</td>\n",
              "      <td>0.969998</td>\n",
              "      <td>0.783506</td>\n",
              "      <td>0.513271</td>\n",
              "      <td>1.0</td>\n",
              "      <td>0.636363</td>\n",
              "      <td>0.513888</td>\n",
              "      <td>0.728573</td>\n",
              "      <td>0.396468</td>\n",
              "      <td>0.199991</td>\n",
              "      <td>0.721159</td>\n",
              "      <td>0.367717</td>\n",
              "      <td>0.871787</td>\n",
              "      <td>0.508005</td>\n",
              "      <td>0.4375</td>\n",
              "      <td>0.466667</td>\n",
              "      <td>0.446054</td>\n",
              "      <td>0.475</td>\n",
              "      <td>0.411765</td>\n",
              "      <td>0.216867</td>\n",
              "      <td>0.177215</td>\n",
              "      <td>0.338675</td>\n",
              "      <td>0.569923</td>\n",
              "      <td>0.79</td>\n",
              "      <td>0.275</td>\n",
              "      <td>0.325</td>\n",
              "    </tr>\n",
              "  </tbody>\n",
              "</table>\n",
              "</div>"
            ],
            "text/plain": [
              "   E24E25E37 IntercalaireFroid Longueur Mesuree LM/100plis  ...  E49 Perpendicularité passe froide\n",
              "0                                           0.841316        ...                              0.625\n",
              "1                                           0.841316        ...                              0.275\n",
              "2                                           0.841316        ...                              0.625\n",
              "3                                           0.841316        ...                              0.350\n",
              "4                                           0.841316        ...                              0.325\n",
              "\n",
              "[5 rows x 38 columns]"
            ]
          },
          "metadata": {
            "tags": []
          },
          "execution_count": 4
        }
      ]
    },
    {
      "cell_type": "markdown",
      "metadata": {
        "id": "GVDlj6Zd_YII",
        "colab_type": "text"
      },
      "source": [
        "## TRAIN TEST SPLIT\n"
      ]
    },
    {
      "cell_type": "code",
      "metadata": {
        "id": "doR68rzEAciU",
        "colab_type": "code",
        "colab": {}
      },
      "source": [
        "train_X, val_X, train_y, val_y = train_test_split(X, y, test_size=.2, random_state = 1)"
      ],
      "execution_count": null,
      "outputs": []
    },
    {
      "cell_type": "markdown",
      "metadata": {
        "id": "5Uo99-AQ8o5v",
        "colab_type": "text"
      },
      "source": [
        "## Anomaly detection for each parameter"
      ]
    },
    {
      "cell_type": "code",
      "metadata": {
        "id": "B3iRQyh58t4n",
        "colab_type": "code",
        "colab": {}
      },
      "source": [
        "#La quantité d'anomalie dans chaqu'un des jeu des données\n",
        "train_contamination = sum(train_y/len(train_y))\n",
        "val_contamination = sum(val_y/len(val_y))"
      ],
      "execution_count": null,
      "outputs": []
    },
    {
      "cell_type": "code",
      "metadata": {
        "id": "KMSc6-Ju7n3D",
        "colab_type": "code",
        "colab": {}
      },
      "source": [
        "#la méthode que nous allons utiliser\n",
        "clf_name = 'Isolation Forest'\n",
        "clf = IsolationForest(behaviour='new', n_estimators=100, contamination=train_contamination)"
      ],
      "execution_count": null,
      "outputs": []
    },
    {
      "cell_type": "code",
      "metadata": {
        "id": "2UaUNO0jC_gh",
        "colab_type": "code",
        "colab": {
          "base_uri": "https://localhost:8080/",
          "height": 104
        },
        "outputId": "7a29df32-7417-4746-fec5-8e365e6786ec"
      },
      "source": [
        "#Une liste qui va sauvagarder les classificateurs au cours de la chaîne de production\n",
        "classifiers = []\n",
        "names = train_X.columns\n",
        "#pour le premier poste de contrôle\n",
        "clf.fit(np.array(train_X[names[0]]).reshape(-1,1))\n",
        "classifiers.append(copy.deepcopy(clf))"
      ],
      "execution_count": null,
      "outputs": [
        {
          "output_type": "stream",
          "text": [
            "/usr/local/lib/python3.6/dist-packages/sklearn/ensemble/_iforest.py:248: FutureWarning: 'behaviour' is deprecated in 0.22 and will be removed in 0.24. You should not pass or set this parameter.\n",
            "  FutureWarning\n",
            "/usr/local/lib/python3.6/dist-packages/sklearn/ensemble/_iforest.py:297: FutureWarning: elementwise comparison failed; returning scalar instead, but in the future will perform elementwise comparison\n",
            "  if self.contamination == \"auto\":\n"
          ],
          "name": "stderr"
        }
      ]
    },
    {
      "cell_type": "code",
      "metadata": {
        "id": "AcDFbLP7A6nn",
        "colab_type": "code",
        "colab": {
          "base_uri": "https://localhost:8080/",
          "height": 1000
        },
        "outputId": "afe2988c-c462-4582-8b45-f69e9e4c4477"
      },
      "source": [
        "#pour les autres postes de contrôle\n",
        "for index in range(1,len(names)):\n",
        "  clf.fit(train_X.loc[:,names[0]:names[index]])\n",
        "  classifiers.append(copy.deepcopy(clf))"
      ],
      "execution_count": null,
      "outputs": [
        {
          "output_type": "stream",
          "text": [
            "/usr/local/lib/python3.6/dist-packages/sklearn/ensemble/_iforest.py:248: FutureWarning: 'behaviour' is deprecated in 0.22 and will be removed in 0.24. You should not pass or set this parameter.\n",
            "  FutureWarning\n",
            "/usr/local/lib/python3.6/dist-packages/sklearn/ensemble/_iforest.py:297: FutureWarning: elementwise comparison failed; returning scalar instead, but in the future will perform elementwise comparison\n",
            "  if self.contamination == \"auto\":\n",
            "/usr/local/lib/python3.6/dist-packages/sklearn/ensemble/_iforest.py:248: FutureWarning: 'behaviour' is deprecated in 0.22 and will be removed in 0.24. You should not pass or set this parameter.\n",
            "  FutureWarning\n",
            "/usr/local/lib/python3.6/dist-packages/sklearn/ensemble/_iforest.py:297: FutureWarning: elementwise comparison failed; returning scalar instead, but in the future will perform elementwise comparison\n",
            "  if self.contamination == \"auto\":\n",
            "/usr/local/lib/python3.6/dist-packages/sklearn/ensemble/_iforest.py:248: FutureWarning: 'behaviour' is deprecated in 0.22 and will be removed in 0.24. You should not pass or set this parameter.\n",
            "  FutureWarning\n",
            "/usr/local/lib/python3.6/dist-packages/sklearn/ensemble/_iforest.py:297: FutureWarning: elementwise comparison failed; returning scalar instead, but in the future will perform elementwise comparison\n",
            "  if self.contamination == \"auto\":\n",
            "/usr/local/lib/python3.6/dist-packages/sklearn/ensemble/_iforest.py:248: FutureWarning: 'behaviour' is deprecated in 0.22 and will be removed in 0.24. You should not pass or set this parameter.\n",
            "  FutureWarning\n",
            "/usr/local/lib/python3.6/dist-packages/sklearn/ensemble/_iforest.py:297: FutureWarning: elementwise comparison failed; returning scalar instead, but in the future will perform elementwise comparison\n",
            "  if self.contamination == \"auto\":\n",
            "/usr/local/lib/python3.6/dist-packages/sklearn/ensemble/_iforest.py:248: FutureWarning: 'behaviour' is deprecated in 0.22 and will be removed in 0.24. You should not pass or set this parameter.\n",
            "  FutureWarning\n",
            "/usr/local/lib/python3.6/dist-packages/sklearn/ensemble/_iforest.py:297: FutureWarning: elementwise comparison failed; returning scalar instead, but in the future will perform elementwise comparison\n",
            "  if self.contamination == \"auto\":\n",
            "/usr/local/lib/python3.6/dist-packages/sklearn/ensemble/_iforest.py:248: FutureWarning: 'behaviour' is deprecated in 0.22 and will be removed in 0.24. You should not pass or set this parameter.\n",
            "  FutureWarning\n",
            "/usr/local/lib/python3.6/dist-packages/sklearn/ensemble/_iforest.py:297: FutureWarning: elementwise comparison failed; returning scalar instead, but in the future will perform elementwise comparison\n",
            "  if self.contamination == \"auto\":\n",
            "/usr/local/lib/python3.6/dist-packages/sklearn/ensemble/_iforest.py:248: FutureWarning: 'behaviour' is deprecated in 0.22 and will be removed in 0.24. You should not pass or set this parameter.\n",
            "  FutureWarning\n",
            "/usr/local/lib/python3.6/dist-packages/sklearn/ensemble/_iforest.py:297: FutureWarning: elementwise comparison failed; returning scalar instead, but in the future will perform elementwise comparison\n",
            "  if self.contamination == \"auto\":\n",
            "/usr/local/lib/python3.6/dist-packages/sklearn/ensemble/_iforest.py:248: FutureWarning: 'behaviour' is deprecated in 0.22 and will be removed in 0.24. You should not pass or set this parameter.\n",
            "  FutureWarning\n",
            "/usr/local/lib/python3.6/dist-packages/sklearn/ensemble/_iforest.py:297: FutureWarning: elementwise comparison failed; returning scalar instead, but in the future will perform elementwise comparison\n",
            "  if self.contamination == \"auto\":\n",
            "/usr/local/lib/python3.6/dist-packages/sklearn/ensemble/_iforest.py:248: FutureWarning: 'behaviour' is deprecated in 0.22 and will be removed in 0.24. You should not pass or set this parameter.\n",
            "  FutureWarning\n",
            "/usr/local/lib/python3.6/dist-packages/sklearn/ensemble/_iforest.py:297: FutureWarning: elementwise comparison failed; returning scalar instead, but in the future will perform elementwise comparison\n",
            "  if self.contamination == \"auto\":\n",
            "/usr/local/lib/python3.6/dist-packages/sklearn/ensemble/_iforest.py:248: FutureWarning: 'behaviour' is deprecated in 0.22 and will be removed in 0.24. You should not pass or set this parameter.\n",
            "  FutureWarning\n",
            "/usr/local/lib/python3.6/dist-packages/sklearn/ensemble/_iforest.py:297: FutureWarning: elementwise comparison failed; returning scalar instead, but in the future will perform elementwise comparison\n",
            "  if self.contamination == \"auto\":\n",
            "/usr/local/lib/python3.6/dist-packages/sklearn/ensemble/_iforest.py:248: FutureWarning: 'behaviour' is deprecated in 0.22 and will be removed in 0.24. You should not pass or set this parameter.\n",
            "  FutureWarning\n",
            "/usr/local/lib/python3.6/dist-packages/sklearn/ensemble/_iforest.py:297: FutureWarning: elementwise comparison failed; returning scalar instead, but in the future will perform elementwise comparison\n",
            "  if self.contamination == \"auto\":\n",
            "/usr/local/lib/python3.6/dist-packages/sklearn/ensemble/_iforest.py:248: FutureWarning: 'behaviour' is deprecated in 0.22 and will be removed in 0.24. You should not pass or set this parameter.\n",
            "  FutureWarning\n",
            "/usr/local/lib/python3.6/dist-packages/sklearn/ensemble/_iforest.py:297: FutureWarning: elementwise comparison failed; returning scalar instead, but in the future will perform elementwise comparison\n",
            "  if self.contamination == \"auto\":\n",
            "/usr/local/lib/python3.6/dist-packages/sklearn/ensemble/_iforest.py:248: FutureWarning: 'behaviour' is deprecated in 0.22 and will be removed in 0.24. You should not pass or set this parameter.\n",
            "  FutureWarning\n",
            "/usr/local/lib/python3.6/dist-packages/sklearn/ensemble/_iforest.py:297: FutureWarning: elementwise comparison failed; returning scalar instead, but in the future will perform elementwise comparison\n",
            "  if self.contamination == \"auto\":\n",
            "/usr/local/lib/python3.6/dist-packages/sklearn/ensemble/_iforest.py:248: FutureWarning: 'behaviour' is deprecated in 0.22 and will be removed in 0.24. You should not pass or set this parameter.\n",
            "  FutureWarning\n",
            "/usr/local/lib/python3.6/dist-packages/sklearn/ensemble/_iforest.py:297: FutureWarning: elementwise comparison failed; returning scalar instead, but in the future will perform elementwise comparison\n",
            "  if self.contamination == \"auto\":\n",
            "/usr/local/lib/python3.6/dist-packages/sklearn/ensemble/_iforest.py:248: FutureWarning: 'behaviour' is deprecated in 0.22 and will be removed in 0.24. You should not pass or set this parameter.\n",
            "  FutureWarning\n",
            "/usr/local/lib/python3.6/dist-packages/sklearn/ensemble/_iforest.py:297: FutureWarning: elementwise comparison failed; returning scalar instead, but in the future will perform elementwise comparison\n",
            "  if self.contamination == \"auto\":\n",
            "/usr/local/lib/python3.6/dist-packages/sklearn/ensemble/_iforest.py:248: FutureWarning: 'behaviour' is deprecated in 0.22 and will be removed in 0.24. You should not pass or set this parameter.\n",
            "  FutureWarning\n",
            "/usr/local/lib/python3.6/dist-packages/sklearn/ensemble/_iforest.py:297: FutureWarning: elementwise comparison failed; returning scalar instead, but in the future will perform elementwise comparison\n",
            "  if self.contamination == \"auto\":\n",
            "/usr/local/lib/python3.6/dist-packages/sklearn/ensemble/_iforest.py:248: FutureWarning: 'behaviour' is deprecated in 0.22 and will be removed in 0.24. You should not pass or set this parameter.\n",
            "  FutureWarning\n",
            "/usr/local/lib/python3.6/dist-packages/sklearn/ensemble/_iforest.py:297: FutureWarning: elementwise comparison failed; returning scalar instead, but in the future will perform elementwise comparison\n",
            "  if self.contamination == \"auto\":\n",
            "/usr/local/lib/python3.6/dist-packages/sklearn/ensemble/_iforest.py:248: FutureWarning: 'behaviour' is deprecated in 0.22 and will be removed in 0.24. You should not pass or set this parameter.\n",
            "  FutureWarning\n",
            "/usr/local/lib/python3.6/dist-packages/sklearn/ensemble/_iforest.py:297: FutureWarning: elementwise comparison failed; returning scalar instead, but in the future will perform elementwise comparison\n",
            "  if self.contamination == \"auto\":\n",
            "/usr/local/lib/python3.6/dist-packages/sklearn/ensemble/_iforest.py:248: FutureWarning: 'behaviour' is deprecated in 0.22 and will be removed in 0.24. You should not pass or set this parameter.\n",
            "  FutureWarning\n",
            "/usr/local/lib/python3.6/dist-packages/sklearn/ensemble/_iforest.py:297: FutureWarning: elementwise comparison failed; returning scalar instead, but in the future will perform elementwise comparison\n",
            "  if self.contamination == \"auto\":\n",
            "/usr/local/lib/python3.6/dist-packages/sklearn/ensemble/_iforest.py:248: FutureWarning: 'behaviour' is deprecated in 0.22 and will be removed in 0.24. You should not pass or set this parameter.\n",
            "  FutureWarning\n",
            "/usr/local/lib/python3.6/dist-packages/sklearn/ensemble/_iforest.py:297: FutureWarning: elementwise comparison failed; returning scalar instead, but in the future will perform elementwise comparison\n",
            "  if self.contamination == \"auto\":\n",
            "/usr/local/lib/python3.6/dist-packages/sklearn/ensemble/_iforest.py:248: FutureWarning: 'behaviour' is deprecated in 0.22 and will be removed in 0.24. You should not pass or set this parameter.\n",
            "  FutureWarning\n",
            "/usr/local/lib/python3.6/dist-packages/sklearn/ensemble/_iforest.py:297: FutureWarning: elementwise comparison failed; returning scalar instead, but in the future will perform elementwise comparison\n",
            "  if self.contamination == \"auto\":\n",
            "/usr/local/lib/python3.6/dist-packages/sklearn/ensemble/_iforest.py:248: FutureWarning: 'behaviour' is deprecated in 0.22 and will be removed in 0.24. You should not pass or set this parameter.\n",
            "  FutureWarning\n",
            "/usr/local/lib/python3.6/dist-packages/sklearn/ensemble/_iforest.py:297: FutureWarning: elementwise comparison failed; returning scalar instead, but in the future will perform elementwise comparison\n",
            "  if self.contamination == \"auto\":\n",
            "/usr/local/lib/python3.6/dist-packages/sklearn/ensemble/_iforest.py:248: FutureWarning: 'behaviour' is deprecated in 0.22 and will be removed in 0.24. You should not pass or set this parameter.\n",
            "  FutureWarning\n",
            "/usr/local/lib/python3.6/dist-packages/sklearn/ensemble/_iforest.py:297: FutureWarning: elementwise comparison failed; returning scalar instead, but in the future will perform elementwise comparison\n",
            "  if self.contamination == \"auto\":\n",
            "/usr/local/lib/python3.6/dist-packages/sklearn/ensemble/_iforest.py:248: FutureWarning: 'behaviour' is deprecated in 0.22 and will be removed in 0.24. You should not pass or set this parameter.\n",
            "  FutureWarning\n",
            "/usr/local/lib/python3.6/dist-packages/sklearn/ensemble/_iforest.py:297: FutureWarning: elementwise comparison failed; returning scalar instead, but in the future will perform elementwise comparison\n",
            "  if self.contamination == \"auto\":\n",
            "/usr/local/lib/python3.6/dist-packages/sklearn/ensemble/_iforest.py:248: FutureWarning: 'behaviour' is deprecated in 0.22 and will be removed in 0.24. You should not pass or set this parameter.\n",
            "  FutureWarning\n",
            "/usr/local/lib/python3.6/dist-packages/sklearn/ensemble/_iforest.py:297: FutureWarning: elementwise comparison failed; returning scalar instead, but in the future will perform elementwise comparison\n",
            "  if self.contamination == \"auto\":\n",
            "/usr/local/lib/python3.6/dist-packages/sklearn/ensemble/_iforest.py:248: FutureWarning: 'behaviour' is deprecated in 0.22 and will be removed in 0.24. You should not pass or set this parameter.\n",
            "  FutureWarning\n",
            "/usr/local/lib/python3.6/dist-packages/sklearn/ensemble/_iforest.py:297: FutureWarning: elementwise comparison failed; returning scalar instead, but in the future will perform elementwise comparison\n",
            "  if self.contamination == \"auto\":\n",
            "/usr/local/lib/python3.6/dist-packages/sklearn/ensemble/_iforest.py:248: FutureWarning: 'behaviour' is deprecated in 0.22 and will be removed in 0.24. You should not pass or set this parameter.\n",
            "  FutureWarning\n",
            "/usr/local/lib/python3.6/dist-packages/sklearn/ensemble/_iforest.py:297: FutureWarning: elementwise comparison failed; returning scalar instead, but in the future will perform elementwise comparison\n",
            "  if self.contamination == \"auto\":\n",
            "/usr/local/lib/python3.6/dist-packages/sklearn/ensemble/_iforest.py:248: FutureWarning: 'behaviour' is deprecated in 0.22 and will be removed in 0.24. You should not pass or set this parameter.\n",
            "  FutureWarning\n",
            "/usr/local/lib/python3.6/dist-packages/sklearn/ensemble/_iforest.py:297: FutureWarning: elementwise comparison failed; returning scalar instead, but in the future will perform elementwise comparison\n",
            "  if self.contamination == \"auto\":\n",
            "/usr/local/lib/python3.6/dist-packages/sklearn/ensemble/_iforest.py:248: FutureWarning: 'behaviour' is deprecated in 0.22 and will be removed in 0.24. You should not pass or set this parameter.\n",
            "  FutureWarning\n",
            "/usr/local/lib/python3.6/dist-packages/sklearn/ensemble/_iforest.py:297: FutureWarning: elementwise comparison failed; returning scalar instead, but in the future will perform elementwise comparison\n",
            "  if self.contamination == \"auto\":\n",
            "/usr/local/lib/python3.6/dist-packages/sklearn/ensemble/_iforest.py:248: FutureWarning: 'behaviour' is deprecated in 0.22 and will be removed in 0.24. You should not pass or set this parameter.\n",
            "  FutureWarning\n",
            "/usr/local/lib/python3.6/dist-packages/sklearn/ensemble/_iforest.py:297: FutureWarning: elementwise comparison failed; returning scalar instead, but in the future will perform elementwise comparison\n",
            "  if self.contamination == \"auto\":\n",
            "/usr/local/lib/python3.6/dist-packages/sklearn/ensemble/_iforest.py:248: FutureWarning: 'behaviour' is deprecated in 0.22 and will be removed in 0.24. You should not pass or set this parameter.\n",
            "  FutureWarning\n",
            "/usr/local/lib/python3.6/dist-packages/sklearn/ensemble/_iforest.py:297: FutureWarning: elementwise comparison failed; returning scalar instead, but in the future will perform elementwise comparison\n",
            "  if self.contamination == \"auto\":\n",
            "/usr/local/lib/python3.6/dist-packages/sklearn/ensemble/_iforest.py:248: FutureWarning: 'behaviour' is deprecated in 0.22 and will be removed in 0.24. You should not pass or set this parameter.\n",
            "  FutureWarning\n",
            "/usr/local/lib/python3.6/dist-packages/sklearn/ensemble/_iforest.py:297: FutureWarning: elementwise comparison failed; returning scalar instead, but in the future will perform elementwise comparison\n",
            "  if self.contamination == \"auto\":\n",
            "/usr/local/lib/python3.6/dist-packages/sklearn/ensemble/_iforest.py:248: FutureWarning: 'behaviour' is deprecated in 0.22 and will be removed in 0.24. You should not pass or set this parameter.\n",
            "  FutureWarning\n",
            "/usr/local/lib/python3.6/dist-packages/sklearn/ensemble/_iforest.py:297: FutureWarning: elementwise comparison failed; returning scalar instead, but in the future will perform elementwise comparison\n",
            "  if self.contamination == \"auto\":\n",
            "/usr/local/lib/python3.6/dist-packages/sklearn/ensemble/_iforest.py:248: FutureWarning: 'behaviour' is deprecated in 0.22 and will be removed in 0.24. You should not pass or set this parameter.\n",
            "  FutureWarning\n",
            "/usr/local/lib/python3.6/dist-packages/sklearn/ensemble/_iforest.py:297: FutureWarning: elementwise comparison failed; returning scalar instead, but in the future will perform elementwise comparison\n",
            "  if self.contamination == \"auto\":\n",
            "/usr/local/lib/python3.6/dist-packages/sklearn/ensemble/_iforest.py:248: FutureWarning: 'behaviour' is deprecated in 0.22 and will be removed in 0.24. You should not pass or set this parameter.\n",
            "  FutureWarning\n",
            "/usr/local/lib/python3.6/dist-packages/sklearn/ensemble/_iforest.py:297: FutureWarning: elementwise comparison failed; returning scalar instead, but in the future will perform elementwise comparison\n",
            "  if self.contamination == \"auto\":\n",
            "/usr/local/lib/python3.6/dist-packages/sklearn/ensemble/_iforest.py:248: FutureWarning: 'behaviour' is deprecated in 0.22 and will be removed in 0.24. You should not pass or set this parameter.\n",
            "  FutureWarning\n",
            "/usr/local/lib/python3.6/dist-packages/sklearn/ensemble/_iforest.py:297: FutureWarning: elementwise comparison failed; returning scalar instead, but in the future will perform elementwise comparison\n",
            "  if self.contamination == \"auto\":\n",
            "/usr/local/lib/python3.6/dist-packages/sklearn/ensemble/_iforest.py:248: FutureWarning: 'behaviour' is deprecated in 0.22 and will be removed in 0.24. You should not pass or set this parameter.\n",
            "  FutureWarning\n",
            "/usr/local/lib/python3.6/dist-packages/sklearn/ensemble/_iforest.py:297: FutureWarning: elementwise comparison failed; returning scalar instead, but in the future will perform elementwise comparison\n",
            "  if self.contamination == \"auto\":\n"
          ],
          "name": "stderr"
        }
      ]
    },
    {
      "cell_type": "markdown",
      "metadata": {
        "id": "ihsJtxAx7Gdw",
        "colab_type": "text"
      },
      "source": [
        "## Résultats\n",
        "\n",
        "Nous allons comparer les résultats donnés par les classificateurs avec les critéres pré definies pour le valeur de fuíte (<20 dans ce cas) pour voir le taux de reussité de l'algorithme.\n",
        "\n",
        "C'est important de noter ici que le isolation forest utilisé 1 pour les piéces bonnes et -1 pour les mauvaises. Donc, c'est une échelle différente de celle que nous avons définis précedemment. "
      ]
    },
    {
      "cell_type": "code",
      "metadata": {
        "id": "u4vva-wxEWF0",
        "colab_type": "code",
        "colab": {}
      },
      "source": [
        "taille = len(val_y)\n",
        "scores = [] \n",
        "for classif, i in zip(classifiers, range(len(names))):\n",
        "  #nous faisons le changement d'échelle ici\n",
        "  y_pred = (classif.predict(val_X.loc[:,names[0]:names[i]])+1)/2\n",
        "  scores.append(np.sum(np.abs(y_pred.reshape(-1,1) - val_y))/taille)"
      ],
      "execution_count": null,
      "outputs": []
    },
    {
      "cell_type": "code",
      "metadata": {
        "id": "MM75yW569khk",
        "colab_type": "code",
        "colab": {
          "base_uri": "https://localhost:8080/",
          "height": 282
        },
        "outputId": "e84b6ce7-16a8-4502-c43d-e0d5fe85e044"
      },
      "source": [
        "#Pour regarder l'évoulution\n",
        "plt.plot(scores, 'r*')"
      ],
      "execution_count": null,
      "outputs": [
        {
          "output_type": "execute_result",
          "data": {
            "text/plain": [
              "[<matplotlib.lines.Line2D at 0x7f61883fb470>]"
            ]
          },
          "metadata": {
            "tags": []
          },
          "execution_count": 11
        },
        {
          "output_type": "display_data",
          "data": {
            "image/png": "[encoded data removed]",
            "text/plain": [
              "<Figure size 432x288 with 1 Axes>"
            ]
          },
          "metadata": {
            "tags": []
          }
        }
      ]
    },
    {
      "cell_type": "code",
      "metadata": {
        "id": "ZbRk9VToIDjc",
        "colab_type": "code",
        "colab": {
          "base_uri": "https://localhost:8080/",
          "height": 282
        },
        "outputId": "3e0c2122-5236-4a5a-e084-3e8ae867160a"
      },
      "source": [
        "#Nous pouvons aussi comparer avec le taux que nous aurions dû obtenir si la méthode retournait anomalie pour toute pièce (la droite pointillé)\n",
        "#Nous pouvons noter que à partir du poste de contrôle 7, nous faisons mieux que choisir tout comme anomalie\n",
        "plt.plot(scores-np.ones(len(scores))+val_contamination, 'r*')\n",
        "plt.plot(np.zeros(len(scores)), 'k--')"
      ],
      "execution_count": null,
      "outputs": [
        {
          "output_type": "execute_result",
          "data": {
            "text/plain": [
              "[<matplotlib.lines.Line2D at 0x7f6187f4b860>]"
            ]
          },
          "metadata": {
            "tags": []
          },
          "execution_count": 12
        },
        {
          "output_type": "display_data",
          "data": {
            "image/png": "[encoded data removed]",
            "text/plain": [
              "<Figure size 432x288 with 1 Axes>"
            ]
          },
          "metadata": {
            "tags": []
          }
        }
      ]
    },
    {
      "cell_type": "code",
      "metadata": {
        "id": "nYrOLqqQJ1Vp",
        "colab_type": "code",
        "colab": {
          "base_uri": "https://localhost:8080/",
          "height": 50
        },
        "outputId": "5ee61c26-b0f4-4dd8-a004-2bd2eee7ee58"
      },
      "source": [
        "#Ainsi, à partir de tel variable nous arrivons à déterminer avec une telle précision\n",
        "#quelles sont les pièces bonnes.\n",
        "n = scores.index(np.max(scores))\n",
        "print(\"Variable: {}.\\nAvec une précision: {} \".format(names[n],scores[n]))"
      ],
      "execution_count": null,
      "outputs": [
        {
          "output_type": "stream",
          "text": [
            "Variable: E24E25E37 IntercalaireFroid hauteur apres calibrage milieu Max.\n",
            "Avec une précision: 0.9358974358974359 \n"
          ],
          "name": "stdout"
        }
      ]
    }
  ]
}