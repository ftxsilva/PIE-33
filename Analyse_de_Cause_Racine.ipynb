{
  "nbformat": 4,
  "nbformat_minor": 0,
  "metadata": {
    "kernelspec": {
      "name": "python3",
      "display_name": "Python 3"
    },
    "language_info": {
      "codemirror_mode": {
        "name": "ipython",
        "version": 3
      },
      "file_extension": ".py",
      "mimetype": "text/x-python",
      "name": "python",
      "nbconvert_exporter": "python",
      "pygments_lexer": "ipython3",
      "version": "3.7.1"
    },
    "colab": {
      "name": "Analyse_de_Cause_Racine.ipynb",
      "provenance": [],
      "collapsed_sections": [],
      "toc_visible": true,
      "include_colab_link": true
    },
    "accelerator": "TPU"
  },
  "cells": [
    {
      "cell_type": "markdown",
      "metadata": {
        "id": "view-in-github",
        "colab_type": "text"
      },
      "source": [
        "<a href=\"https://colab.research.google.com/github/ftxsilva/PIE-33/blob/master/Analyse_de_Cause_Racine.ipynb\" target=\"_parent\"><img src=\"https://colab.research.google.com/assets/colab-badge.svg\" alt=\"Open In Colab\"/></a>"
      ]
    },
    {
      "cell_type": "markdown",
      "metadata": {
        "id": "CCGWJXUDKX0a",
        "colab_type": "text"
      },
      "source": [
        "# Étude de Cause Racine\n",
        "\n",
        "Dans ce notebook nous allons étudier des causes racines des problèmes de non-qualité à partir des méthodes suivantes:\n",
        "\n",
        "\n",
        "*   Random Forest \n",
        "*   XGBoost\n",
        "*   Artificial Neural Network\n",
        "*   Étude de causalité\n",
        "*   Permutation importance\n"
      ]
    },
    {
      "cell_type": "markdown",
      "metadata": {
        "id": "zJKadFPxKX0d",
        "colab_type": "text"
      },
      "source": [
        "## Importer des libraries"
      ]
    },
    {
      "cell_type": "code",
      "metadata": {
        "id": "7dF19LdpKX0e",
        "colab_type": "code",
        "colab": {
          "base_uri": "https://localhost:8080/",
          "height": 469
        },
        "outputId": "f0c65ea6-719a-445d-bde6-ecdcaecacd0a"
      },
      "source": [
        "import pandas as pd\n",
        "import numpy as np\n",
        "import matplotlib.pyplot as plt\n",
        "%matplotlib inline\n",
        "from sklearn import preprocessing\n",
        "import io\n",
        "import collections\n",
        "from sklearn.model_selection import train_test_split\n",
        "from matplotlib import style\n",
        "import seaborn as sns\n",
        "from sklearn.model_selection import train_test_split\n",
        "from xgboost import XGBClassifier\n",
        "import xgboost as xgb\n",
        "from sklearn.ensemble import RandomForestClassifier\n",
        "from sklearn.metrics import accuracy_score,recall_score,precision_score,f1_score,\\\n",
        "    roc_curve, auc, confusion_matrix, precision_recall_curve\n",
        "\n",
        "\n",
        "\n",
        "import tensorflow as tf\n",
        "import tensorflow.compat.v1 as tf\n",
        "tf.disable_v2_behavior()\n",
        "from tensorflow.keras import layers\n",
        "from keras.models import Model\n",
        "from keras import backend as K\n",
        "from keras.utils import plot_model\n",
        "from tensorflow import keras\n",
        "\n",
        "from sklearn import preprocessing\n",
        "from keras.wrappers.scikit_learn import KerasClassifier, KerasRegressor\n",
        "\n",
        "!pip install eli5\n",
        "import eli5\n",
        "from eli5.sklearn import PermutationImportance"
      ],
      "execution_count": null,
      "outputs": [
        {
          "output_type": "display_data",
          "data": {
            "text/html": [
              "<p style=\"color: red;\">\n",
              "The default version of TensorFlow in Colab will soon switch to TensorFlow 2.x.<br>\n",
              "We recommend you <a href=\"https://www.tensorflow.org/guide/migrate\" target=\"_blank\">upgrade</a> now \n",
              "or ensure your notebook will continue to use TensorFlow 1.x via the <code>%tensorflow_version 1.x</code> magic:\n",
              "<a href=\"https://colab.research.google.com/notebooks/tensorflow_version.ipynb\" target=\"_blank\">more info</a>.</p>\n"
            ],
            "text/plain": [
              "<IPython.core.display.HTML object>"
            ]
          },
          "metadata": {
            "tags": []
          }
        },
        {
          "output_type": "stream",
          "text": [
            "WARNING:tensorflow:From /usr/local/lib/python3.6/dist-packages/tensorflow_core/python/compat/v2_compat.py:68: disable_resource_variables (from tensorflow.python.ops.variable_scope) is deprecated and will be removed in a future version.\n",
            "Instructions for updating:\n",
            "non-resource variables are not supported in the long term\n"
          ],
          "name": "stdout"
        },
        {
          "output_type": "stream",
          "text": [
            "Using TensorFlow backend.\n"
          ],
          "name": "stderr"
        },
        {
          "output_type": "stream",
          "text": [
            "Collecting eli5\n",
            "\u001b[?25l  Downloading https://files.pythonhosted.org/packages/97/2f/c85c7d8f8548e460829971785347e14e45fa5c6617da374711dec8cb38cc/eli5-0.10.1-py2.py3-none-any.whl (105kB)\n",
            "\r\u001b[K     |███                             | 10kB 17.4MB/s eta 0:00:01\r\u001b[K     |██████▏                         | 20kB 2.1MB/s eta 0:00:01\r\u001b[K     |█████████▎                      | 30kB 2.8MB/s eta 0:00:01\r\u001b[K     |████████████▍                   | 40kB 1.9MB/s eta 0:00:01\r\u001b[K     |███████████████▌                | 51kB 2.2MB/s eta 0:00:01\r\u001b[K     |██████████████████▋             | 61kB 2.7MB/s eta 0:00:01\r\u001b[K     |█████████████████████▊          | 71kB 2.9MB/s eta 0:00:01\r\u001b[K     |████████████████████████▊       | 81kB 3.1MB/s eta 0:00:01\r\u001b[K     |███████████████████████████▉    | 92kB 3.4MB/s eta 0:00:01\r\u001b[K     |███████████████████████████████ | 102kB 3.3MB/s eta 0:00:01\r\u001b[K     |████████████████████████████████| 112kB 3.3MB/s \n",
            "\u001b[?25hRequirement already satisfied: tabulate>=0.7.7 in /usr/local/lib/python3.6/dist-packages (from eli5) (0.8.6)\n",
            "Requirement already satisfied: attrs>16.0.0 in /usr/local/lib/python3.6/dist-packages (from eli5) (19.3.0)\n",
            "Requirement already satisfied: six in /usr/local/lib/python3.6/dist-packages (from eli5) (1.12.0)\n",
            "Requirement already satisfied: graphviz in /usr/local/lib/python3.6/dist-packages (from eli5) (0.10.1)\n",
            "Requirement already satisfied: scikit-learn>=0.18 in /usr/local/lib/python3.6/dist-packages (from eli5) (0.22.1)\n",
            "Requirement already satisfied: scipy in /usr/local/lib/python3.6/dist-packages (from eli5) (1.4.1)\n",
            "Requirement already satisfied: numpy>=1.9.0 in /usr/local/lib/python3.6/dist-packages (from eli5) (1.17.5)\n",
            "Requirement already satisfied: jinja2 in /usr/local/lib/python3.6/dist-packages (from eli5) (2.11.1)\n",
            "Requirement already satisfied: joblib>=0.11 in /usr/local/lib/python3.6/dist-packages (from scikit-learn>=0.18->eli5) (0.14.1)\n",
            "Requirement already satisfied: MarkupSafe>=0.23 in /usr/local/lib/python3.6/dist-packages (from jinja2->eli5) (1.1.1)\n",
            "Installing collected packages: eli5\n",
            "Successfully installed eli5-0.10.1\n"
          ],
          "name": "stdout"
        },
        {
          "output_type": "stream",
          "text": [
            "/usr/local/lib/python3.6/dist-packages/sklearn/utils/deprecation.py:144: FutureWarning: The sklearn.metrics.scorer module is  deprecated in version 0.22 and will be removed in version 0.24. The corresponding classes / functions should instead be imported from sklearn.metrics. Anything that cannot be imported from sklearn.metrics is now part of the private API.\n",
            "  warnings.warn(message, FutureWarning)\n",
            "/usr/local/lib/python3.6/dist-packages/sklearn/utils/deprecation.py:144: FutureWarning: The sklearn.feature_selection.base module is  deprecated in version 0.22 and will be removed in version 0.24. The corresponding classes / functions should instead be imported from sklearn.feature_selection. Anything that cannot be imported from sklearn.feature_selection is now part of the private API.\n",
            "  warnings.warn(message, FutureWarning)\n"
          ],
          "name": "stderr"
        }
      ]
    },
    {
      "cell_type": "markdown",
      "metadata": {
        "id": "WzMmpDgtKX0h",
        "colab_type": "text"
      },
      "source": [
        "## Lire le jeu de donner \"Clean\""
      ]
    },
    {
      "cell_type": "code",
      "metadata": {
        "id": "2uCIXW7rKX0l",
        "colab_type": "code",
        "colab": {
          "base_uri": "https://localhost:8080/",
          "height": 34
        },
        "outputId": "c6d9e4d7-763f-4fc6-8f0d-a74db3f14b81"
      },
      "source": [
        "dataframe = pd.read_csv('Data_traite_decembreV7.csv' , sep=',',decimal=b'.')\n",
        "dataframe.shape"
      ],
      "execution_count": null,
      "outputs": [
        {
          "output_type": "execute_result",
          "data": {
            "text/plain": [
              "(1559, 62)"
            ]
          },
          "metadata": {
            "tags": []
          },
          "execution_count": 39
        }
      ]
    },
    {
      "cell_type": "markdown",
      "metadata": {
        "id": "B5ERpYmRKX0p",
        "colab_type": "text"
      },
      "source": [
        "\n",
        "### Separation de variables en categories"
      ]
    },
    {
      "cell_type": "code",
      "metadata": {
        "id": "CHrTelNDKX0q",
        "colab_type": "code",
        "colab": {
          "base_uri": "https://localhost:8080/",
          "height": 101
        },
        "outputId": "647c834c-e18f-44fe-9f2a-24d21519d867"
      },
      "source": [
        "for name in dataframe.columns:\n",
        "    l = np.array(dataframe[name])\n",
        "    if len(collections.Counter(l)) == 1:\n",
        "        dataframe.drop(name,1, inplace = True)\n",
        "\n",
        "print('Unique types of variables: ', dataframe.dtypes.unique())\n",
        "floats = dataframe.select_dtypes('float64')\n",
        "categories = dataframe.select_dtypes('O')\n",
        "ints = dataframe.select_dtypes('int64')\n",
        "\n",
        "len(categories.columns) + len(floats.columns) == len(dataframe.columns)\n",
        "print('# of columns: ', len(dataframe.columns))\n",
        "print('# of Categorical columns: ', len(categories.columns))\n",
        "print('# of Float columns: ', len(floats.columns))\n",
        "print('# of Int columns: ', len(ints.columns))"
      ],
      "execution_count": null,
      "outputs": [
        {
          "output_type": "stream",
          "text": [
            "Unique types of variables:  [dtype('float64') dtype('int64')]\n",
            "# of columns:  62\n",
            "# of Categorical columns:  0\n",
            "# of Float columns:  39\n",
            "# of Int columns:  23\n"
          ],
          "name": "stdout"
        }
      ]
    },
    {
      "cell_type": "markdown",
      "metadata": {
        "id": "idiGBeVeclAj",
        "colab_type": "text"
      },
      "source": [
        "### Training-Test Split et Classification des données"
      ]
    },
    {
      "cell_type": "code",
      "metadata": {
        "id": "BObBHbOqKX0-",
        "colab_type": "code",
        "colab": {}
      },
      "source": [
        "'''\n",
        "    Training data\n",
        "'''\n",
        "# Selecting float dataset\n",
        "df = floats.iloc[:,:-1]\n",
        "vec = floats.iloc[:,-1].values\n",
        "defect = vec > 20\n",
        "df_defect = pd.DataFrame(defect, columns=['Classification']).astype('uint8')\n",
        "\n",
        "df = df.iloc[:,:-1]\n",
        "\n",
        "# Normalizing\n",
        "x = df\n",
        "min_max_scaler = preprocessing.MinMaxScaler()\n",
        "x_scaled = min_max_scaler.fit_transform(x)\n",
        "\n",
        "X = x_scaled\n",
        "y = df_defect.to_numpy()\n",
        "train_X, val_X, train_y, val_y = train_test_split(X, y, random_state = 1)"
      ],
      "execution_count": null,
      "outputs": []
    },
    {
      "cell_type": "markdown",
      "metadata": {
        "id": "ScoLnN5fKX00",
        "colab_type": "text"
      },
      "source": [
        "## Constructions des modèles de classification\n"
      ]
    },
    {
      "cell_type": "markdown",
      "metadata": {
        "id": "dCvtMdNLObSH",
        "colab_type": "text"
      },
      "source": [
        "### 1. Random Forest"
      ]
    },
    {
      "cell_type": "code",
      "metadata": {
        "id": "yCKZAaAnKX01",
        "colab_type": "code",
        "colab": {
          "base_uri": "https://localhost:8080/",
          "height": 104
        },
        "outputId": "b7f97e5f-145b-4ac8-de2b-f908ff511ff9"
      },
      "source": [
        "rfc = RandomForestClassifier(n_estimators=10, criterion='entropy')\n",
        "rfc.fit(train_X,train_y)\n",
        "\n",
        "print(\"Learning score: %g\"%(rfc.score(train_X,train_y)))\n",
        "print(\"Generalization score: %g\"%(rfc.score(val_X,val_y)))"
      ],
      "execution_count": null,
      "outputs": [
        {
          "output_type": "stream",
          "text": [
            "Learning score: 0.99059\n",
            "Generalization score: 0.915385\n"
          ],
          "name": "stdout"
        },
        {
          "output_type": "stream",
          "text": [
            "/usr/local/lib/python3.6/dist-packages/ipykernel_launcher.py:2: DataConversionWarning: A column-vector y was passed when a 1d array was expected. Please change the shape of y to (n_samples,), for example using ravel().\n",
            "  \n"
          ],
          "name": "stderr"
        }
      ]
    },
    {
      "cell_type": "code",
      "metadata": {
        "id": "MO7_oEBIe4fx",
        "colab_type": "code",
        "colab": {
          "base_uri": "https://localhost:8080/",
          "height": 134
        },
        "outputId": "d0e42927-5a01-4ca5-cf32-14ca96f1d005"
      },
      "source": [
        "# Model Evaluation metrics \n",
        "y_pred = rfc.predict(val_X)\n",
        "print('Accuracy Score : ' + str(accuracy_score(val_y,y_pred)))\n",
        "print('Precision Score : ' + str(precision_score(val_y, y_pred)))\n",
        "print('Recall Score : ' + str(recall_score(val_y, y_pred)))\n",
        "print('F1 Score : ' + str(f1_score(val_y, y_pred)))\n",
        "print('Confusion Matrix : \\n' + str(confusion_matrix(val_y, y_pred)))"
      ],
      "execution_count": null,
      "outputs": [
        {
          "output_type": "stream",
          "text": [
            "Accuracy Score : 0.9153846153846154\n",
            "Precision Score : 0.5909090909090909\n",
            "Recall Score : 0.35135135135135137\n",
            "F1 Score : 0.4406779661016949\n",
            "Confusion Matrix : \n",
            "[[344   9]\n",
            " [ 24  13]]\n"
          ],
          "name": "stdout"
        }
      ]
    },
    {
      "cell_type": "code",
      "metadata": {
        "id": "STkfFUvhMTdR",
        "colab_type": "code",
        "colab": {
          "base_uri": "https://localhost:8080/",
          "height": 295
        },
        "outputId": "a091de9f-09b9-4264-b664-39a39e4702a1"
      },
      "source": [
        "# Compute ROC curve and ROC area for each class\n",
        "\n",
        "fpr, tpr, thresholds = roc_curve(y_true = val_y, y_score = rfc.predict_proba(val_X)[:,1], pos_label=1)\n",
        "roc_auc = auc(fpr, tpr)\n",
        "\n",
        "plt.figure()\n",
        "lw = 2\n",
        "plt.plot(fpr, tpr, color='darkorange', lw=lw, label='ROC curve (area = %0.2f)' % roc_auc)\n",
        "plt.plot([0, 1], [0, 1], color='navy', lw=lw, linestyle='--', label = 'Reference Line')\n",
        "plt.xlim([0.0, 1.0])\n",
        "plt.ylim([0.0, 1.05])\n",
        "plt.xlabel('False Positive Rate')\n",
        "plt.ylabel('True Positive Rate')\n",
        "plt.title('Receiver operating characteristic example')\n",
        "plt.legend(loc=\"lower right\")\n",
        "plt.show()"
      ],
      "execution_count": null,
      "outputs": [
        {
          "output_type": "display_data",
          "data": {
            "image/png": "[encoded data removed]",
            "text/plain": [
              "<Figure size 432x288 with 1 Axes>"
            ]
          },
          "metadata": {
            "tags": []
          }
        }
      ]
    },
    {
      "cell_type": "code",
      "metadata": {
        "id": "eTs8wQUzNqEj",
        "colab_type": "code",
        "colab": {
          "base_uri": "https://localhost:8080/",
          "height": 295
        },
        "outputId": "61331050-ced7-4048-88e4-561efe4cfdd1"
      },
      "source": [
        "precision, recall, thresholds = precision_recall_curve(val_y, rfc.predict_proba(val_X)[:,1])\n",
        "\n",
        "plt.figure()\n",
        "lw = 2\n",
        "plt.plot(recall, precision, color='darkorange', lw=lw, label='PR curve')\n",
        "plt.plot(recall, 2*recall*precision/(recall+precision), color='green', lw=lw, label='f1 curve')\n",
        "plt.xlim([0.0, 1.0])\n",
        "plt.ylim([0.0, 1.05])\n",
        "plt.xlabel('Recall')\n",
        "plt.ylabel('Precision')\n",
        "plt.title('Precision-Recall Curve')\n",
        "plt.legend(loc=\"lower right\")\n",
        "plt.show()"
      ],
      "execution_count": null,
      "outputs": [
        {
          "output_type": "display_data",
          "data": {
            "image/png": "[encoded data removed]",
            "text/plain": [
              "<Figure size 432x288 with 1 Axes>"
            ]
          },
          "metadata": {
            "tags": []
          }
        }
      ]
    },
    {
      "cell_type": "code",
      "metadata": {
        "id": "RdwLJG07TYvy",
        "colab_type": "code",
        "colab": {
          "base_uri": "https://localhost:8080/",
          "height": 34
        },
        "outputId": "ec0f7704-2fc3-48b3-bb02-a9dd00bf4745"
      },
      "source": [
        "bestf1 = max(2*recall*precision/(recall+precision))\n",
        "print(\"The best f1 score found is: %0.2f\" %bestf1)"
      ],
      "execution_count": null,
      "outputs": [
        {
          "output_type": "stream",
          "text": [
            "The best f1 score found is: 0.62\n"
          ],
          "name": "stdout"
        }
      ]
    },
    {
      "cell_type": "markdown",
      "metadata": {
        "id": "Ij8K-zNpKX03",
        "colab_type": "text"
      },
      "source": [
        "### 2. XGBoost"
      ]
    },
    {
      "cell_type": "code",
      "metadata": {
        "id": "JgVgDarNKX04",
        "colab_type": "code",
        "colab": {
          "base_uri": "https://localhost:8080/",
          "height": 34
        },
        "outputId": "23419028-fca8-4594-e4d2-6c966b060171"
      },
      "source": [
        "train_X, val_X, train_y, val_y = train_test_split(x, y)\n",
        "\n",
        "i = 0\n",
        "dict1 = {}\n",
        "for col in train_X.columns:\n",
        "    dict1[col] = i\n",
        "    i+=1\n",
        "\n",
        "train_X1 = train_X.rename(columns = dict1, inplace = False)\n",
        "val_X1 = val_X.rename(columns = dict1, inplace = False)\n",
        "\n",
        "xgbC = XGBClassifier(n_estimators=200)\n",
        "xgbC.fit(train_X1,train_y.reshape(1,-1)[0])\n",
        "preds = xgbC.predict(val_X1)\n",
        "acc_xgb = (preds == val_y.reshape(1,-1)[0]).sum().astype(float) / len(preds)*100\n",
        "print(\"XGBoost's prediction accuracy is: %3.2f\" % (acc_xgb))"
      ],
      "execution_count": null,
      "outputs": [
        {
          "output_type": "stream",
          "text": [
            "XGBoost's prediction accuracy is: 91.28\n"
          ],
          "name": "stdout"
        }
      ]
    },
    {
      "cell_type": "code",
      "metadata": {
        "id": "sU81ttd3N3SL",
        "colab_type": "code",
        "colab": {
          "base_uri": "https://localhost:8080/",
          "height": 134
        },
        "outputId": "78f07b58-1085-4608-f656-e80b97858654"
      },
      "source": [
        "from sklearn.metrics import accuracy_score,recall_score,precision_score,f1_score\n",
        "print('Accuracy Score : ' + str(accuracy_score(val_y,preds)))\n",
        "print('Precision Score : ' + str(precision_score(val_y, preds)))\n",
        "print('Recall Score : ' + str(recall_score(val_y, preds)))\n",
        "print('F1 Score : ' + str(f1_score(val_y, preds)))\n",
        "\n",
        "print('Confusion Matrix : \\n' + str(confusion_matrix(val_y, preds)))"
      ],
      "execution_count": null,
      "outputs": [
        {
          "output_type": "stream",
          "text": [
            "Accuracy Score : 0.9128205128205128\n",
            "Precision Score : 0.625\n",
            "Recall Score : 0.2631578947368421\n",
            "F1 Score : 0.37037037037037035\n",
            "Confusion Matrix : \n",
            "[[346   6]\n",
            " [ 28  10]]\n"
          ],
          "name": "stdout"
        }
      ]
    },
    {
      "cell_type": "markdown",
      "metadata": {
        "id": "N2vOnSHrKX07",
        "colab_type": "text"
      },
      "source": [
        "### 3. Artificial Neural Network"
      ]
    },
    {
      "cell_type": "code",
      "metadata": {
        "id": "IKMmDlxjKX1B",
        "colab_type": "code",
        "colab": {}
      },
      "source": [
        "'''\n",
        "    Fixed parameters\n",
        "'''\n",
        "n_features = np.size(X,1)\n",
        "\n",
        "'''\n",
        "    Parameters possibilities\n",
        "'''\n",
        "layerWidth = [64, 64, 1]\n",
        "activationFunctions = ['linear','sigmoid', 'relu', 'softmax']\n",
        "lossFunctions = ['mean_squared_error', 'categorical_crossentropy', 'binary_crossentropy']\n",
        "optimzerOptions = ['adam', 'sgd']\n",
        "batchSizes = [256]\n",
        "callbacks_list = []\n",
        "allNumEpochs = [1000]\n",
        "\n",
        "'''\n",
        "    Chosen parameters\n",
        "'''\n",
        "lossFunc = lossFunctions[0]\n",
        "optimizer = optimzerOptions[1]\n",
        "batchSize = batchSizes[0]\n",
        "numEpochs = allNumEpochs[0]"
      ],
      "execution_count": null,
      "outputs": []
    },
    {
      "cell_type": "code",
      "metadata": {
        "id": "57G6T7HgKX1D",
        "colab_type": "code",
        "colab": {
          "base_uri": "https://localhost:8080/",
          "height": 484
        },
        "outputId": "5edf3e5c-29b3-4584-9051-b8e4174e91d2"
      },
      "source": [
        "'''\n",
        "    Architecture\n",
        "'''\n",
        "def round_func(x):\n",
        "    return K.round(x)\n",
        "\n",
        "def base_model():\n",
        "    model =  tf.keras.Sequential([\n",
        "        layers.Dense(layerWidth[0], activation=activationFunctions[2], input_shape=(n_features,), name='Input'),\n",
        "        layers.Dropout(0.1),\n",
        "        layers.Dense(layerWidth[0], activation=activationFunctions[2], input_shape=(n_features,), name='HL1'),\n",
        "        layers.Dropout(0.1),\n",
        "        layers.Dense(layerWidth[2], activation=activationFunctions[1], name='Output'),\n",
        "    ], name='Sequential_NN')\n",
        "    model.compile(loss=lossFunc, optimizer=optimizer, metrics=['accuracy'])\n",
        "    return model\n",
        "'''\n",
        "    Overall Settings/ Compilation\n",
        "'''\n",
        "ANN = base_model()\n",
        "\n",
        "''' \n",
        "    Training\n",
        "'''\n",
        "history = ANN.fit(train_X, train_y, validation_split=0.25, epochs=numEpochs, \n",
        "                  batch_size=batchSize, shuffle=True, verbose=0, \n",
        "                  callbacks=callbacks_list)\n",
        "'''\n",
        "    Plotting\n",
        "'''\n",
        "\n",
        "trainingFig = plt.figure(figsize=(8, 6), dpi=80)\n",
        "plt.title('Training results')\n",
        "plt.plot(history.history['loss']) # all outputs: ['acc', 'loss', 'val_acc', 'val_loss']\n",
        "plt.plot(history.history['acc'])\n",
        "plt.grid(True, which='both')\n",
        "plt.plot(history.history['val_loss'])\n",
        "plt.xlabel('$M_{ep}$')\n",
        "plt.legend(['Training loss', 'accuracy', 'validation loss'])\n",
        "plt.show()\n",
        "\n",
        "print('Final training loss:', history.history['loss'][-1])\n",
        "print('Final validation loss:', history.history['val_loss'][-1])"
      ],
      "execution_count": null,
      "outputs": [
        {
          "output_type": "display_data",
          "data": {
            "image/png": "[encoded data removed]",
            "text/plain": [
              "<Figure size 640x480 with 1 Axes>"
            ]
          },
          "metadata": {
            "tags": []
          }
        },
        {
          "output_type": "stream",
          "text": [
            "Final training loss: 0.09589041102694594\n",
            "Final validation loss: 0.06484641654753848\n"
          ],
          "name": "stdout"
        }
      ]
    },
    {
      "cell_type": "code",
      "metadata": {
        "id": "KNgJAbsNKX1G",
        "colab_type": "code",
        "colab": {
          "base_uri": "https://localhost:8080/",
          "height": 34
        },
        "outputId": "62c8c72f-2f55-4e8c-fcc7-f34159dfd6e7"
      },
      "source": [
        "'''\n",
        "    Prediction\n",
        "'''\n",
        "pred = (ANN.predict(val_X)).reshape(-1) > 0.5\n",
        "val = (np.round(ANN.predict(val_X)) == val_y.reshape(-1))\n",
        "\n",
        "print(\"Validation score\", np.sum(val)/len(val))"
      ],
      "execution_count": null,
      "outputs": [
        {
          "output_type": "stream",
          "text": [
            "Validation score 352.0\n"
          ],
          "name": "stdout"
        }
      ]
    },
    {
      "cell_type": "code",
      "metadata": {
        "id": "Gl-zP9VjYtOj",
        "colab_type": "code",
        "colab": {
          "base_uri": "https://localhost:8080/",
          "height": 188
        },
        "outputId": "2a99f38a-558f-4c57-ab61-036df903c71a"
      },
      "source": [
        "# Model Evaluation metrics \n",
        "from sklearn.metrics import accuracy_score,recall_score,precision_score,f1_score\n",
        "print('Accuracy Score : ' + str(accuracy_score(val_y,pred)))\n",
        "print('Precision Score : ' + str(precision_score(val_y, pred)))\n",
        "print('Recall Score : ' + str(recall_score(val_y, pred)))\n",
        "print('F1 Score : ' + str(f1_score(val_y, pred)))\n",
        "\n",
        "from sklearn.metrics import confusion_matrix\n",
        "print('Confusion Matrix : \\n' + str(confusion_matrix(val_y, pred)))"
      ],
      "execution_count": null,
      "outputs": [
        {
          "output_type": "stream",
          "text": [
            "Accuracy Score : 0.9025641025641026\n",
            "Precision Score : 0.0\n",
            "Recall Score : 0.0\n",
            "F1 Score : 0.0\n",
            "Confusion Matrix : \n",
            "[[352   0]\n",
            " [ 38   0]]\n"
          ],
          "name": "stdout"
        },
        {
          "output_type": "stream",
          "text": [
            "/usr/local/lib/python3.6/dist-packages/sklearn/metrics/_classification.py:1272: UndefinedMetricWarning: Precision is ill-defined and being set to 0.0 due to no predicted samples. Use `zero_division` parameter to control this behavior.\n",
            "  _warn_prf(average, modifier, msg_start, len(result))\n"
          ],
          "name": "stderr"
        }
      ]
    },
    {
      "cell_type": "markdown",
      "metadata": {
        "id": "Vk881nj2KX1K",
        "colab_type": "text"
      },
      "source": [
        "## Étude de causalité"
      ]
    },
    {
      "cell_type": "markdown",
      "metadata": {
        "id": "Xi1-kyhAjbDx",
        "colab_type": "text"
      },
      "source": [
        "### - Random Forest"
      ]
    },
    {
      "cell_type": "code",
      "metadata": {
        "id": "jF2iIuTQKX1L",
        "colab_type": "code",
        "colab": {
          "base_uri": "https://localhost:8080/",
          "height": 607
        },
        "outputId": "9eb78596-bbec-4a92-edd6-c8f3c125683f"
      },
      "source": [
        "# Feature importance\n",
        "importances = rfc.feature_importances_\n",
        "std = np.std([tree.feature_importances_ for tree in rfc.estimators_], axis=0)\n",
        "indices = np.argsort(importances)[::-1]\n",
        "ordered_importance = [importances[i] for i in indices]\n",
        "\n",
        "plt.figure(figsize=(10,10))\n",
        "plt.title(\"Feature importances\")\n",
        "plt.bar(range(10),importances[indices[0:10]], color=\"r\", yerr=std[indices[0:10]], align=\"center\")\n",
        "plt.xticks(range(10), indices[0:10])\n",
        "plt.show()"
      ],
      "execution_count": null,
      "outputs": [
        {
          "output_type": "display_data",
          "data": {
            "image/png": "[encoded data removed]",
            "text/plain": [
              "<Figure size 720x720 with 1 Axes>"
            ]
          },
          "metadata": {
            "tags": []
          }
        }
      ]
    },
    {
      "cell_type": "code",
      "metadata": {
        "id": "Ti0vfpxTjtW1",
        "colab_type": "code",
        "colab": {
          "base_uri": "https://localhost:8080/",
          "height": 101
        },
        "outputId": "7b7a64af-f056-4895-8fa7-b3363a79b68f"
      },
      "source": [
        "print(x.columns[31])\n",
        "print(x.columns[32])\n",
        "print(x.columns[6])\n",
        "print(x.columns[3])\n",
        "print(x.columns[8])"
      ],
      "execution_count": null,
      "outputs": [
        {
          "output_type": "stream",
          "text": [
            "E45E35E36 P < 6.6 10-5mbar 1\n",
            "E45E35E36 P < 6.6 10-5mbar 2\n",
            "E24E25E37 IntercalaireFroid hauteur apres calibrage gauche\n",
            "E24E25E37 IntercalaireFroid hauteur apres calibrage droit\n",
            "E24E25E37 IntercalaireFroid hauteur apres calibrage milieu\n"
          ],
          "name": "stdout"
        }
      ]
    },
    {
      "cell_type": "markdown",
      "metadata": {
        "id": "oGrJFYNNL5cs",
        "colab_type": "text"
      },
      "source": [
        "### XGBoost\n"
      ]
    },
    {
      "cell_type": "code",
      "metadata": {
        "id": "420QdDsNKX1S",
        "colab_type": "code",
        "colab": {
          "base_uri": "https://localhost:8080/",
          "height": 225
        },
        "outputId": "92d5ae88-8fc8-485f-844b-32314d46492b"
      },
      "source": [
        "importances = pd.DataFrame({\n",
        "    'Feature': x.columns,\n",
        "    'Importance': xgbC.feature_importances_\n",
        "})\n",
        "importances = importances.sort_values(by='Importance', ascending=False)\n",
        "importances = importances.set_index('Feature')\n",
        "#regarder les 5 plus importants features\n",
        "importances[:5]"
      ],
      "execution_count": null,
      "outputs": [
        {
          "output_type": "execute_result",
          "data": {
            "text/html": [
              "<div>\n",
              "<style scoped>\n",
              "    .dataframe tbody tr th:only-of-type {\n",
              "        vertical-align: middle;\n",
              "    }\n",
              "\n",
              "    .dataframe tbody tr th {\n",
              "        vertical-align: top;\n",
              "    }\n",
              "\n",
              "    .dataframe thead th {\n",
              "        text-align: right;\n",
              "    }\n",
              "</style>\n",
              "<table border=\"1\" class=\"dataframe\">\n",
              "  <thead>\n",
              "    <tr style=\"text-align: right;\">\n",
              "      <th></th>\n",
              "      <th>Importance</th>\n",
              "    </tr>\n",
              "    <tr>\n",
              "      <th>Feature</th>\n",
              "      <th></th>\n",
              "    </tr>\n",
              "  </thead>\n",
              "  <tbody>\n",
              "    <tr>\n",
              "      <th>E24E25E37 IntercalaireFroid hauteur apres calibrage droit</th>\n",
              "      <td>0.156773</td>\n",
              "    </tr>\n",
              "    <tr>\n",
              "      <th>E24E25E37 IntercalaireFroid largeur de bande</th>\n",
              "      <td>0.080249</td>\n",
              "    </tr>\n",
              "    <tr>\n",
              "      <th>E24E25E37 IntercalaireFroid hauteur apres calibrage milieu</th>\n",
              "      <td>0.054575</td>\n",
              "    </tr>\n",
              "    <tr>\n",
              "      <th>E24E25E37 IntercalaireFroid hauteur sorti formage milieu Max</th>\n",
              "      <td>0.051669</td>\n",
              "    </tr>\n",
              "    <tr>\n",
              "      <th>E24E25E37 IntercalaireFroid Longueur Mesuree LM/100plis Max</th>\n",
              "      <td>0.040995</td>\n",
              "    </tr>\n",
              "  </tbody>\n",
              "</table>\n",
              "</div>"
            ],
            "text/plain": [
              "                                                    Importance\n",
              "Feature                                                       \n",
              "E24E25E37 IntercalaireFroid hauteur apres calib...    0.156773\n",
              "E24E25E37 IntercalaireFroid largeur de bande          0.080249\n",
              "E24E25E37 IntercalaireFroid hauteur apres calib...    0.054575\n",
              "E24E25E37 IntercalaireFroid hauteur sorti forma...    0.051669\n",
              "E24E25E37 IntercalaireFroid Longueur Mesuree LM...    0.040995"
            ]
          },
          "metadata": {
            "tags": []
          },
          "execution_count": 18
        }
      ]
    },
    {
      "cell_type": "markdown",
      "metadata": {
        "id": "SiYtJVvTKX1O",
        "colab_type": "text"
      },
      "source": [
        "## Permutation importance"
      ]
    },
    {
      "cell_type": "markdown",
      "metadata": {
        "id": "z-lauwNiKX1O",
        "colab_type": "text"
      },
      "source": [
        "### - Random Forest"
      ]
    },
    {
      "cell_type": "code",
      "metadata": {
        "id": "_i_ByNhoKX1P",
        "colab_type": "code",
        "colab": {
          "base_uri": "https://localhost:8080/",
          "height": 420
        },
        "outputId": "78fe27ed-6633-4a87-b668-e04db086ea3c"
      },
      "source": [
        "#prefit parce que le modele est deja fitte, on veut seulement faire le random shuffle avec les donnes de test\n",
        "perm = PermutationImportance(rfc, random_state=1, n_iter = 10, cv='prefit').fit(val_X, val_y)\n",
        "eli5.show_weights(perm, feature_names = x.columns.tolist())"
      ],
      "execution_count": null,
      "outputs": [
        {
          "output_type": "stream",
          "text": [
            "/usr/local/lib/python3.6/dist-packages/eli5/formatters/html.py:235: RuntimeWarning: invalid value encountered in double_scalars\n",
            "  rel_weight = (abs(weight) / weight_range) ** 0.7\n"
          ],
          "name": "stderr"
        },
        {
          "output_type": "execute_result",
          "data": {
            "text/html": [
              "\n",
              "    <style>\n",
              "    table.eli5-weights tr:hover {\n",
              "        filter: brightness(85%);\n",
              "    }\n",
              "</style>\n",
              "\n",
              "\n",
              "\n",
              "    \n",
              "\n",
              "    \n",
              "\n",
              "    \n",
              "\n",
              "    \n",
              "\n",
              "    \n",
              "\n",
              "    \n",
              "\n",
              "\n",
              "    \n",
              "\n",
              "    \n",
              "\n",
              "    \n",
              "\n",
              "    \n",
              "\n",
              "    \n",
              "\n",
              "    \n",
              "\n",
              "\n",
              "    \n",
              "\n",
              "    \n",
              "\n",
              "    \n",
              "\n",
              "    \n",
              "\n",
              "    \n",
              "        <table class=\"eli5-weights eli5-feature-importances\" style=\"border-collapse: collapse; border: none; margin-top: 0em; table-layout: auto;\">\n",
              "    <thead>\n",
              "    <tr style=\"border: none;\">\n",
              "        <th style=\"padding: 0 1em 0 0.5em; text-align: right; border: none;\">Weight</th>\n",
              "        <th style=\"padding: 0 0.5em 0 0.5em; text-align: left; border: none;\">Feature</th>\n",
              "    </tr>\n",
              "    </thead>\n",
              "    <tbody>\n",
              "    \n",
              "        <tr style=\"background-color: hsl(0, 100.00%, nan%); border: none;\">\n",
              "            <td style=\"padding: 0 1em 0 0.5em; text-align: right; border: none;\">\n",
              "                0\n",
              "                \n",
              "                    &plusmn; 0.0000\n",
              "                \n",
              "            </td>\n",
              "            <td style=\"padding: 0 0.5em 0 0.5em; text-align: left; border: none;\">\n",
              "                E24E25E37 IntercalaireFroid largeur de bande\n",
              "            </td>\n",
              "        </tr>\n",
              "    \n",
              "        <tr style=\"background-color: hsl(0, 100.00%, nan%); border: none;\">\n",
              "            <td style=\"padding: 0 1em 0 0.5em; text-align: right; border: none;\">\n",
              "                0\n",
              "                \n",
              "                    &plusmn; 0.0000\n",
              "                \n",
              "            </td>\n",
              "            <td style=\"padding: 0 0.5em 0 0.5em; text-align: left; border: none;\">\n",
              "                E24E25E37 IntercalaireFroid hauteur apres calibrage droit\n",
              "            </td>\n",
              "        </tr>\n",
              "    \n",
              "        <tr style=\"background-color: hsl(0, 100.00%, nan%); border: none;\">\n",
              "            <td style=\"padding: 0 1em 0 0.5em; text-align: right; border: none;\">\n",
              "                0\n",
              "                \n",
              "                    &plusmn; 0.0000\n",
              "                \n",
              "            </td>\n",
              "            <td style=\"padding: 0 0.5em 0 0.5em; text-align: left; border: none;\">\n",
              "                E24E25E37 IntercalaireFroid hauteur apres calibrage droit Max\n",
              "            </td>\n",
              "        </tr>\n",
              "    \n",
              "        <tr style=\"background-color: hsl(0, 100.00%, nan%); border: none;\">\n",
              "            <td style=\"padding: 0 1em 0 0.5em; text-align: right; border: none;\">\n",
              "                0\n",
              "                \n",
              "                    &plusmn; 0.0000\n",
              "                \n",
              "            </td>\n",
              "            <td style=\"padding: 0 0.5em 0 0.5em; text-align: left; border: none;\">\n",
              "                E24E25E37 IntercalaireFroid hauteur apres calibrage droit Min\n",
              "            </td>\n",
              "        </tr>\n",
              "    \n",
              "        <tr style=\"background-color: hsl(0, 100.00%, nan%); border: none;\">\n",
              "            <td style=\"padding: 0 1em 0 0.5em; text-align: right; border: none;\">\n",
              "                0\n",
              "                \n",
              "                    &plusmn; 0.0000\n",
              "                \n",
              "            </td>\n",
              "            <td style=\"padding: 0 0.5em 0 0.5em; text-align: left; border: none;\">\n",
              "                E24E25E37 IntercalaireFroid hauteur apres calibrage gauche\n",
              "            </td>\n",
              "        </tr>\n",
              "    \n",
              "        <tr style=\"background-color: hsl(0, 100.00%, nan%); border: none;\">\n",
              "            <td style=\"padding: 0 1em 0 0.5em; text-align: right; border: none;\">\n",
              "                0\n",
              "                \n",
              "                    &plusmn; 0.0000\n",
              "                \n",
              "            </td>\n",
              "            <td style=\"padding: 0 0.5em 0 0.5em; text-align: left; border: none;\">\n",
              "                E24E25E37 IntercalaireFroid hauteur apres calibrage gauche Min\n",
              "            </td>\n",
              "        </tr>\n",
              "    \n",
              "        <tr style=\"background-color: hsl(0, 100.00%, nan%); border: none;\">\n",
              "            <td style=\"padding: 0 1em 0 0.5em; text-align: right; border: none;\">\n",
              "                0\n",
              "                \n",
              "                    &plusmn; 0.0000\n",
              "                \n",
              "            </td>\n",
              "            <td style=\"padding: 0 0.5em 0 0.5em; text-align: left; border: none;\">\n",
              "                E24E25E37 IntercalaireFroid hauteur apres calibrage milieu\n",
              "            </td>\n",
              "        </tr>\n",
              "    \n",
              "        <tr style=\"background-color: hsl(0, 100.00%, nan%); border: none;\">\n",
              "            <td style=\"padding: 0 1em 0 0.5em; text-align: right; border: none;\">\n",
              "                0\n",
              "                \n",
              "                    &plusmn; 0.0000\n",
              "                \n",
              "            </td>\n",
              "            <td style=\"padding: 0 0.5em 0 0.5em; text-align: left; border: none;\">\n",
              "                E24E25E37 IntercalaireFroid hauteur apres calibrage milieu Max\n",
              "            </td>\n",
              "        </tr>\n",
              "    \n",
              "        <tr style=\"background-color: hsl(0, 100.00%, nan%); border: none;\">\n",
              "            <td style=\"padding: 0 1em 0 0.5em; text-align: right; border: none;\">\n",
              "                0\n",
              "                \n",
              "                    &plusmn; 0.0000\n",
              "                \n",
              "            </td>\n",
              "            <td style=\"padding: 0 0.5em 0 0.5em; text-align: left; border: none;\">\n",
              "                E24E25E37 IntercalaireFroid hauteur apres calibrage milieu Min\n",
              "            </td>\n",
              "        </tr>\n",
              "    \n",
              "        <tr style=\"background-color: hsl(0, 100.00%, nan%); border: none;\">\n",
              "            <td style=\"padding: 0 1em 0 0.5em; text-align: right; border: none;\">\n",
              "                0\n",
              "                \n",
              "                    &plusmn; 0.0000\n",
              "                \n",
              "            </td>\n",
              "            <td style=\"padding: 0 0.5em 0 0.5em; text-align: left; border: none;\">\n",
              "                E24E25E37 IntercalaireFroid hauteur sorti formage droit\n",
              "            </td>\n",
              "        </tr>\n",
              "    \n",
              "        <tr style=\"background-color: hsl(0, 100.00%, nan%); border: none;\">\n",
              "            <td style=\"padding: 0 1em 0 0.5em; text-align: right; border: none;\">\n",
              "                0\n",
              "                \n",
              "                    &plusmn; 0.0000\n",
              "                \n",
              "            </td>\n",
              "            <td style=\"padding: 0 0.5em 0 0.5em; text-align: left; border: none;\">\n",
              "                E24E25E37 IntercalaireFroid hauteur sorti formage droit Max\n",
              "            </td>\n",
              "        </tr>\n",
              "    \n",
              "        <tr style=\"background-color: hsl(0, 100.00%, nan%); border: none;\">\n",
              "            <td style=\"padding: 0 1em 0 0.5em; text-align: right; border: none;\">\n",
              "                0\n",
              "                \n",
              "                    &plusmn; 0.0000\n",
              "                \n",
              "            </td>\n",
              "            <td style=\"padding: 0 0.5em 0 0.5em; text-align: left; border: none;\">\n",
              "                E24E25E37 IntercalaireFroid hauteur sorti formage droit Min\n",
              "            </td>\n",
              "        </tr>\n",
              "    \n",
              "        <tr style=\"background-color: hsl(0, 100.00%, nan%); border: none;\">\n",
              "            <td style=\"padding: 0 1em 0 0.5em; text-align: right; border: none;\">\n",
              "                0\n",
              "                \n",
              "                    &plusmn; 0.0000\n",
              "                \n",
              "            </td>\n",
              "            <td style=\"padding: 0 0.5em 0 0.5em; text-align: left; border: none;\">\n",
              "                E24E25E37 IntercalaireFroid hauteur sorti formage gauche\n",
              "            </td>\n",
              "        </tr>\n",
              "    \n",
              "        <tr style=\"background-color: hsl(0, 100.00%, nan%); border: none;\">\n",
              "            <td style=\"padding: 0 1em 0 0.5em; text-align: right; border: none;\">\n",
              "                0\n",
              "                \n",
              "                    &plusmn; 0.0000\n",
              "                \n",
              "            </td>\n",
              "            <td style=\"padding: 0 0.5em 0 0.5em; text-align: left; border: none;\">\n",
              "                E24E25E37 IntercalaireFroid hauteur sorti formage gauche Max\n",
              "            </td>\n",
              "        </tr>\n",
              "    \n",
              "        <tr style=\"background-color: hsl(0, 100.00%, nan%); border: none;\">\n",
              "            <td style=\"padding: 0 1em 0 0.5em; text-align: right; border: none;\">\n",
              "                0\n",
              "                \n",
              "                    &plusmn; 0.0000\n",
              "                \n",
              "            </td>\n",
              "            <td style=\"padding: 0 0.5em 0 0.5em; text-align: left; border: none;\">\n",
              "                E24E25E37 IntercalaireFroid hauteur sorti formage gauche Min\n",
              "            </td>\n",
              "        </tr>\n",
              "    \n",
              "        <tr style=\"background-color: hsl(0, 100.00%, nan%); border: none;\">\n",
              "            <td style=\"padding: 0 1em 0 0.5em; text-align: right; border: none;\">\n",
              "                0\n",
              "                \n",
              "                    &plusmn; 0.0000\n",
              "                \n",
              "            </td>\n",
              "            <td style=\"padding: 0 0.5em 0 0.5em; text-align: left; border: none;\">\n",
              "                E24E25E37 IntercalaireFroid hauteur sorti formage milieu\n",
              "            </td>\n",
              "        </tr>\n",
              "    \n",
              "        <tr style=\"background-color: hsl(0, 100.00%, nan%); border: none;\">\n",
              "            <td style=\"padding: 0 1em 0 0.5em; text-align: right; border: none;\">\n",
              "                0\n",
              "                \n",
              "                    &plusmn; 0.0000\n",
              "                \n",
              "            </td>\n",
              "            <td style=\"padding: 0 0.5em 0 0.5em; text-align: left; border: none;\">\n",
              "                E24E25E37 IntercalaireFroid Longueur Mesuree LM/100plis Max\n",
              "            </td>\n",
              "        </tr>\n",
              "    \n",
              "        <tr style=\"background-color: hsl(0, 100.00%, nan%); border: none;\">\n",
              "            <td style=\"padding: 0 1em 0 0.5em; text-align: right; border: none;\">\n",
              "                0\n",
              "                \n",
              "                    &plusmn; 0.0000\n",
              "                \n",
              "            </td>\n",
              "            <td style=\"padding: 0 0.5em 0 0.5em; text-align: left; border: none;\">\n",
              "                E24E25E37 IntercalaireFroid Longueur Mesuree LM/100plis\n",
              "            </td>\n",
              "        </tr>\n",
              "    \n",
              "        <tr style=\"background-color: hsl(0, 100.00%, nan%); border: none;\">\n",
              "            <td style=\"padding: 0 1em 0 0.5em; text-align: right; border: none;\">\n",
              "                0\n",
              "                \n",
              "                    &plusmn; 0.0000\n",
              "                \n",
              "            </td>\n",
              "            <td style=\"padding: 0 0.5em 0 0.5em; text-align: left; border: none;\">\n",
              "                E24E25E37 IntercalaireFroid Longueur Mesuree LM/100plis Min\n",
              "            </td>\n",
              "        </tr>\n",
              "    \n",
              "        <tr style=\"background-color: hsl(0, 100.00%, nan%); border: none;\">\n",
              "            <td style=\"padding: 0 1em 0 0.5em; text-align: right; border: none;\">\n",
              "                0\n",
              "                \n",
              "                    &plusmn; 0.0000\n",
              "                \n",
              "            </td>\n",
              "            <td style=\"padding: 0 0.5em 0 0.5em; text-align: left; border: none;\">\n",
              "                E49 Perpendicularité passe chaude\n",
              "            </td>\n",
              "        </tr>\n",
              "    \n",
              "    \n",
              "        \n",
              "            <tr style=\"background-color: hsl(0, 100.00%, nan%); border: none;\">\n",
              "                <td colspan=\"2\" style=\"padding: 0 0.5em 0 0.5em; text-align: center; border: none; white-space: nowrap;\">\n",
              "                    <i>&hellip; 17 more &hellip;</i>\n",
              "                </td>\n",
              "            </tr>\n",
              "        \n",
              "    \n",
              "    </tbody>\n",
              "</table>\n",
              "    \n",
              "\n",
              "    \n",
              "\n",
              "\n",
              "    \n",
              "\n",
              "    \n",
              "\n",
              "    \n",
              "\n",
              "    \n",
              "\n",
              "    \n",
              "\n",
              "    \n",
              "\n",
              "\n",
              "\n"
            ],
            "text/plain": [
              "<IPython.core.display.HTML object>"
            ]
          },
          "metadata": {
            "tags": []
          },
          "execution_count": 19
        }
      ]
    },
    {
      "cell_type": "markdown",
      "metadata": {
        "id": "BIMxHWYPKX1V",
        "colab_type": "text"
      },
      "source": [
        "### - Aritificial Neural Network"
      ]
    },
    {
      "cell_type": "code",
      "metadata": {
        "id": "5fX-HbsMKX1Y",
        "colab_type": "code",
        "colab": {
          "base_uri": "https://localhost:8080/",
          "height": 1000
        },
        "outputId": "fd42996e-925e-4c00-c38b-6af3fd42fa53"
      },
      "source": [
        "perm = PermutationImportance(ANN, cv='prefit', n_iter=2).fit(val_X, val_y, verbose=0)\n",
        "eli5.show_weights(perm, feature_names = x.columns.tolist())"
      ],
      "execution_count": null,
      "outputs": [
        {
          "output_type": "stream",
          "text": [
            "390/390 [==============================] - 0s 41us/sample - loss: 0.3326 - acc: 0.9051\n",
            "390/390 [==============================] - 0s 50us/sample - loss: 0.3332 - acc: 0.9051\n",
            "390/390 [==============================] - 0s 36us/sample - loss: 0.3331 - acc: 0.9051\n",
            "390/390 [==============================] - 0s 39us/sample - loss: 0.3321 - acc: 0.9051\n",
            "390/390 [==============================] - 0s 38us/sample - loss: 0.3326 - acc: 0.9051\n",
            "390/390 [==============================] - 0s 36us/sample - loss: 0.3326 - acc: 0.9051\n",
            "390/390 [==============================] - 0s 38us/sample - loss: 0.3326 - acc: 0.9051\n",
            "390/390 [==============================] - 0s 35us/sample - loss: 0.3326 - acc: 0.9051\n",
            "390/390 [==============================] - 0s 38us/sample - loss: 0.3326 - acc: 0.9051\n",
            "390/390 [==============================] - 0s 36us/sample - loss: 0.3326 - acc: 0.9051\n",
            "390/390 [==============================] - 0s 39us/sample - loss: 0.3326 - acc: 0.9051\n",
            "390/390 [==============================] - 0s 32us/sample - loss: 0.3326 - acc: 0.9051\n",
            "390/390 [==============================] - 0s 34us/sample - loss: 0.3326 - acc: 0.9051\n",
            "390/390 [==============================] - 0s 32us/sample - loss: 0.3326 - acc: 0.9051\n",
            "390/390 [==============================] - 0s 32us/sample - loss: 0.3326 - acc: 0.9051\n",
            "390/390 [==============================] - 0s 33us/sample - loss: 0.3326 - acc: 0.9051\n",
            "390/390 [==============================] - 0s 36us/sample - loss: 0.3326 - acc: 0.9051\n",
            "390/390 [==============================] - 0s 38us/sample - loss: 0.3326 - acc: 0.9051\n",
            "390/390 [==============================] - 0s 37us/sample - loss: 0.3326 - acc: 0.9051\n",
            "390/390 [==============================] - 0s 31us/sample - loss: 0.3326 - acc: 0.9051\n",
            "390/390 [==============================] - 0s 38us/sample - loss: 0.3326 - acc: 0.9051\n",
            "390/390 [==============================] - 0s 37us/sample - loss: 0.3327 - acc: 0.9051\n",
            "390/390 [==============================] - 0s 48us/sample - loss: 0.3338 - acc: 0.9051\n",
            "390/390 [==============================] - 0s 30us/sample - loss: 0.3330 - acc: 0.9051\n",
            "390/390 [==============================] - 0s 37us/sample - loss: 0.3342 - acc: 0.9051\n",
            "390/390 [==============================] - 0s 39us/sample - loss: 0.3330 - acc: 0.9051\n",
            "390/390 [==============================] - 0s 37us/sample - loss: 0.3328 - acc: 0.9051\n",
            "390/390 [==============================] - 0s 34us/sample - loss: 0.3327 - acc: 0.9051\n",
            "390/390 [==============================] - 0s 60us/sample - loss: 0.3326 - acc: 0.9051\n",
            "390/390 [==============================] - 0s 33us/sample - loss: 0.3327 - acc: 0.9051\n",
            "390/390 [==============================] - 0s 35us/sample - loss: 0.3327 - acc: 0.9051\n",
            "390/390 [==============================] - 0s 34us/sample - loss: 0.3326 - acc: 0.9051\n",
            "390/390 [==============================] - 0s 30us/sample - loss: 0.3326 - acc: 0.9051\n",
            "390/390 [==============================] - 0s 30us/sample - loss: 0.3326 - acc: 0.9051\n",
            "390/390 [==============================] - 0s 31us/sample - loss: 0.3326 - acc: 0.9051\n",
            "390/390 [==============================] - 0s 30us/sample - loss: 0.3326 - acc: 0.9051\n",
            "390/390 [==============================] - 0s 32us/sample - loss: 0.3325 - acc: 0.9051\n",
            "390/390 [==============================] - 0s 32us/sample - loss: 0.3380 - acc: 0.9051\n",
            "390/390 [==============================] - 0s 31us/sample - loss: 0.3334 - acc: 0.9051\n",
            "390/390 [==============================] - 0s 31us/sample - loss: 0.3327 - acc: 0.9051\n",
            "390/390 [==============================] - 0s 35us/sample - loss: 0.3329 - acc: 0.9051\n",
            "390/390 [==============================] - 0s 33us/sample - loss: 0.3326 - acc: 0.9051\n",
            "390/390 [==============================] - 0s 32us/sample - loss: 0.3326 - acc: 0.9051\n",
            "390/390 [==============================] - 0s 32us/sample - loss: 0.3325 - acc: 0.9051\n",
            "390/390 [==============================] - 0s 33us/sample - loss: 0.3326 - acc: 0.9051\n",
            "390/390 [==============================] - 0s 33us/sample - loss: 0.3326 - acc: 0.9051\n",
            "390/390 [==============================] - 0s 30us/sample - loss: 0.3326 - acc: 0.9051\n",
            "390/390 [==============================] - 0s 38us/sample - loss: 0.3326 - acc: 0.9051\n",
            "390/390 [==============================] - 0s 37us/sample - loss: 0.3326 - acc: 0.9051\n",
            "390/390 [==============================] - 0s 32us/sample - loss: 0.3326 - acc: 0.9051\n",
            "390/390 [==============================] - 0s 36us/sample - loss: 0.3326 - acc: 0.9051\n",
            "390/390 [==============================] - 0s 31us/sample - loss: 0.3326 - acc: 0.9051\n",
            "390/390 [==============================] - 0s 32us/sample - loss: 0.3326 - acc: 0.9051\n",
            "390/390 [==============================] - 0s 47us/sample - loss: 0.3326 - acc: 0.9051\n",
            "390/390 [==============================] - 0s 31us/sample - loss: 0.3326 - acc: 0.9051\n",
            "390/390 [==============================] - 0s 33us/sample - loss: 0.3326 - acc: 0.9051\n",
            "390/390 [==============================] - 0s 42us/sample - loss: 0.3326 - acc: 0.9051\n",
            "390/390 [==============================] - 0s 43us/sample - loss: 0.3326 - acc: 0.9051\n",
            "390/390 [==============================] - 0s 33us/sample - loss: 0.3328 - acc: 0.9051\n",
            "390/390 [==============================] - 0s 35us/sample - loss: 0.3339 - acc: 0.9051\n",
            "390/390 [==============================] - 0s 30us/sample - loss: 0.3330 - acc: 0.9051\n",
            "390/390 [==============================] - 0s 38us/sample - loss: 0.3347 - acc: 0.9051\n",
            "390/390 [==============================] - 0s 38us/sample - loss: 0.3329 - acc: 0.9051\n",
            "390/390 [==============================] - 0s 36us/sample - loss: 0.3327 - acc: 0.9051\n",
            "390/390 [==============================] - 0s 38us/sample - loss: 0.3328 - acc: 0.9051\n",
            "390/390 [==============================] - 0s 36us/sample - loss: 0.3326 - acc: 0.9051\n",
            "390/390 [==============================] - 0s 38us/sample - loss: 0.3327 - acc: 0.9051\n",
            "390/390 [==============================] - 0s 36us/sample - loss: 0.3328 - acc: 0.9051\n",
            "390/390 [==============================] - 0s 41us/sample - loss: 0.3326 - acc: 0.9051\n",
            "390/390 [==============================] - 0s 39us/sample - loss: 0.3326 - acc: 0.9051\n",
            "390/390 [==============================] - 0s 32us/sample - loss: 0.3326 - acc: 0.9051\n",
            "390/390 [==============================] - 0s 38us/sample - loss: 0.3326 - acc: 0.9051\n",
            "390/390 [==============================] - 0s 31us/sample - loss: 0.3327 - acc: 0.9051\n",
            "390/390 [==============================] - 0s 39us/sample - loss: 0.3324 - acc: 0.9051\n",
            "390/390 [==============================] - 0s 36us/sample - loss: 0.3279 - acc: 0.9051\n"
          ],
          "name": "stdout"
        },
        {
          "output_type": "execute_result",
          "data": {
            "text/html": [
              "\n",
              "    <style>\n",
              "    table.eli5-weights tr:hover {\n",
              "        filter: brightness(85%);\n",
              "    }\n",
              "</style>\n",
              "\n",
              "\n",
              "\n",
              "    \n",
              "\n",
              "    \n",
              "\n",
              "    \n",
              "\n",
              "    \n",
              "\n",
              "    \n",
              "\n",
              "    \n",
              "\n",
              "\n",
              "    \n",
              "\n",
              "    \n",
              "\n",
              "    \n",
              "\n",
              "    \n",
              "\n",
              "    \n",
              "\n",
              "    \n",
              "\n",
              "\n",
              "    \n",
              "\n",
              "    \n",
              "\n",
              "    \n",
              "\n",
              "    \n",
              "\n",
              "    \n",
              "        <table class=\"eli5-weights eli5-feature-importances\" style=\"border-collapse: collapse; border: none; margin-top: 0em; table-layout: auto;\">\n",
              "    <thead>\n",
              "    <tr style=\"border: none;\">\n",
              "        <th style=\"padding: 0 1em 0 0.5em; text-align: right; border: none;\">Weight</th>\n",
              "        <th style=\"padding: 0 0.5em 0 0.5em; text-align: left; border: none;\">Feature</th>\n",
              "    </tr>\n",
              "    </thead>\n",
              "    <tbody>\n",
              "    \n",
              "        <tr style=\"background-color: hsl(120, 100.00%, 80.00%); border: none;\">\n",
              "            <td style=\"padding: 0 1em 0 0.5em; text-align: right; border: none;\">\n",
              "                0.0019\n",
              "                \n",
              "                    &plusmn; 0.0005\n",
              "                \n",
              "            </td>\n",
              "            <td style=\"padding: 0 0.5em 0 0.5em; text-align: left; border: none;\">\n",
              "                E24E25E37 IntercalaireFroid largeur de passe (longueur)\n",
              "            </td>\n",
              "        </tr>\n",
              "    \n",
              "        <tr style=\"background-color: hsl(120, 100.00%, 84.86%); border: none;\">\n",
              "            <td style=\"padding: 0 1em 0 0.5em; text-align: right; border: none;\">\n",
              "                0.0013\n",
              "                \n",
              "                    &plusmn; 0.0001\n",
              "                \n",
              "            </td>\n",
              "            <td style=\"padding: 0 0.5em 0 0.5em; text-align: left; border: none;\">\n",
              "                E24E25E37 IntercalaireFroid largeur de bande Max\n",
              "            </td>\n",
              "        </tr>\n",
              "    \n",
              "        <tr style=\"background-color: hsl(120, 100.00%, 90.17%); border: none;\">\n",
              "            <td style=\"padding: 0 1em 0 0.5em; text-align: right; border: none;\">\n",
              "                0.0007\n",
              "                \n",
              "                    &plusmn; 0.0003\n",
              "                \n",
              "            </td>\n",
              "            <td style=\"padding: 0 0.5em 0 0.5em; text-align: left; border: none;\">\n",
              "                E24E25E37 IntercalaireFroid Longueur Mesuree LM/100plis\n",
              "            </td>\n",
              "        </tr>\n",
              "    \n",
              "        <tr style=\"background-color: hsl(120, 100.00%, 93.31%); border: none;\">\n",
              "            <td style=\"padding: 0 1em 0 0.5em; text-align: right; border: none;\">\n",
              "                0.0004\n",
              "                \n",
              "                    &plusmn; 0.0000\n",
              "                \n",
              "            </td>\n",
              "            <td style=\"padding: 0 0.5em 0 0.5em; text-align: left; border: none;\">\n",
              "                E24E25E37 IntercalaireFroid largeur de bande Min\n",
              "            </td>\n",
              "        </tr>\n",
              "    \n",
              "        <tr style=\"background-color: hsl(120, 100.00%, 93.36%); border: none;\">\n",
              "            <td style=\"padding: 0 1em 0 0.5em; text-align: right; border: none;\">\n",
              "                0.0004\n",
              "                \n",
              "                    &plusmn; 0.0101\n",
              "                \n",
              "            </td>\n",
              "            <td style=\"padding: 0 0.5em 0 0.5em; text-align: left; border: none;\">\n",
              "                E49 Perpendicularité passe chaude\n",
              "            </td>\n",
              "        </tr>\n",
              "    \n",
              "        <tr style=\"background-color: hsl(120, 100.00%, 94.19%); border: none;\">\n",
              "            <td style=\"padding: 0 1em 0 0.5em; text-align: right; border: none;\">\n",
              "                0.0003\n",
              "                \n",
              "                    &plusmn; 0.0001\n",
              "                \n",
              "            </td>\n",
              "            <td style=\"padding: 0 0.5em 0 0.5em; text-align: left; border: none;\">\n",
              "                E24E25E37 IntercalaireFroid largeur de passe (longueur) Min\n",
              "            </td>\n",
              "        </tr>\n",
              "    \n",
              "        <tr style=\"background-color: hsl(120, 100.00%, 94.29%); border: none;\">\n",
              "            <td style=\"padding: 0 1em 0 0.5em; text-align: right; border: none;\">\n",
              "                0.0003\n",
              "                \n",
              "                    &plusmn; 0.0004\n",
              "                \n",
              "            </td>\n",
              "            <td style=\"padding: 0 0.5em 0 0.5em; text-align: left; border: none;\">\n",
              "                E24E25E37 IntercalaireFroid Longueur Mesuree LM/100plis Max\n",
              "            </td>\n",
              "        </tr>\n",
              "    \n",
              "        <tr style=\"background-color: hsl(120, 100.00%, 95.98%); border: none;\">\n",
              "            <td style=\"padding: 0 1em 0 0.5em; text-align: right; border: none;\">\n",
              "                0.0002\n",
              "                \n",
              "                    &plusmn; 0.0001\n",
              "                \n",
              "            </td>\n",
              "            <td style=\"padding: 0 0.5em 0 0.5em; text-align: left; border: none;\">\n",
              "                E24E25E37 IntercalaireFroid pic et creux local dessus Max\n",
              "            </td>\n",
              "        </tr>\n",
              "    \n",
              "        <tr style=\"background-color: hsl(120, 100.00%, 96.37%); border: none;\">\n",
              "            <td style=\"padding: 0 1em 0 0.5em; text-align: right; border: none;\">\n",
              "                0.0002\n",
              "                \n",
              "                    &plusmn; 0.0001\n",
              "                \n",
              "            </td>\n",
              "            <td style=\"padding: 0 0.5em 0 0.5em; text-align: left; border: none;\">\n",
              "                E24E25E37 IntercalaireFroid largeur de bande\n",
              "            </td>\n",
              "        </tr>\n",
              "    \n",
              "        <tr style=\"background-color: hsl(120, 100.00%, 96.81%); border: none;\">\n",
              "            <td style=\"padding: 0 1em 0 0.5em; text-align: right; border: none;\">\n",
              "                0.0001\n",
              "                \n",
              "                    &plusmn; 0.0001\n",
              "                \n",
              "            </td>\n",
              "            <td style=\"padding: 0 0.5em 0 0.5em; text-align: left; border: none;\">\n",
              "                E24E25E37 IntercalaireFroid pic et creux local dessous Max\n",
              "            </td>\n",
              "        </tr>\n",
              "    \n",
              "        <tr style=\"background-color: hsl(120, 100.00%, 96.86%); border: none;\">\n",
              "            <td style=\"padding: 0 1em 0 0.5em; text-align: right; border: none;\">\n",
              "                0.0001\n",
              "                \n",
              "                    &plusmn; 0.0001\n",
              "                \n",
              "            </td>\n",
              "            <td style=\"padding: 0 0.5em 0 0.5em; text-align: left; border: none;\">\n",
              "                E24E25E37 IntercalaireFroid pic et creux local dessous\n",
              "            </td>\n",
              "        </tr>\n",
              "    \n",
              "        <tr style=\"background-color: hsl(120, 100.00%, 97.40%); border: none;\">\n",
              "            <td style=\"padding: 0 1em 0 0.5em; text-align: right; border: none;\">\n",
              "                0.0001\n",
              "                \n",
              "                    &plusmn; 0.0001\n",
              "                \n",
              "            </td>\n",
              "            <td style=\"padding: 0 0.5em 0 0.5em; text-align: left; border: none;\">\n",
              "                E24E25E37 IntercalaireFroid pic et creux local dessus\n",
              "            </td>\n",
              "        </tr>\n",
              "    \n",
              "        <tr style=\"background-color: hsl(120, 100.00%, 98.67%); border: none;\">\n",
              "            <td style=\"padding: 0 1em 0 0.5em; text-align: right; border: none;\">\n",
              "                0.0000\n",
              "                \n",
              "                    &plusmn; 0.0001\n",
              "                \n",
              "            </td>\n",
              "            <td style=\"padding: 0 0.5em 0 0.5em; text-align: left; border: none;\">\n",
              "                E49 Hauteur minimale\n",
              "            </td>\n",
              "        </tr>\n",
              "    \n",
              "        <tr style=\"background-color: hsl(120, 100.00%, 98.91%); border: none;\">\n",
              "            <td style=\"padding: 0 1em 0 0.5em; text-align: right; border: none;\">\n",
              "                0.0000\n",
              "                \n",
              "                    &plusmn; 0.0000\n",
              "                \n",
              "            </td>\n",
              "            <td style=\"padding: 0 0.5em 0 0.5em; text-align: left; border: none;\">\n",
              "                E24E25E37 IntercalaireFroid pic et creux local dessus Min\n",
              "            </td>\n",
              "        </tr>\n",
              "    \n",
              "        <tr style=\"background-color: hsl(120, 100.00%, 99.04%); border: none;\">\n",
              "            <td style=\"padding: 0 1em 0 0.5em; text-align: right; border: none;\">\n",
              "                0.0000\n",
              "                \n",
              "                    &plusmn; 0.0000\n",
              "                \n",
              "            </td>\n",
              "            <td style=\"padding: 0 0.5em 0 0.5em; text-align: left; border: none;\">\n",
              "                E24E25E37 IntercalaireFroid pic et creux local dessous Min\n",
              "            </td>\n",
              "        </tr>\n",
              "    \n",
              "        <tr style=\"background-color: hsl(120, 100.00%, 99.14%); border: none;\">\n",
              "            <td style=\"padding: 0 1em 0 0.5em; text-align: right; border: none;\">\n",
              "                0.0000\n",
              "                \n",
              "                    &plusmn; 0.0000\n",
              "                \n",
              "            </td>\n",
              "            <td style=\"padding: 0 0.5em 0 0.5em; text-align: left; border: none;\">\n",
              "                E24E25E37 IntercalaireFroid hauteur apres calibrage gauche\n",
              "            </td>\n",
              "        </tr>\n",
              "    \n",
              "        <tr style=\"background-color: hsl(120, 100.00%, 99.38%); border: none;\">\n",
              "            <td style=\"padding: 0 1em 0 0.5em; text-align: right; border: none;\">\n",
              "                0.0000\n",
              "                \n",
              "                    &plusmn; 0.0000\n",
              "                \n",
              "            </td>\n",
              "            <td style=\"padding: 0 0.5em 0 0.5em; text-align: left; border: none;\">\n",
              "                E24E25E37 IntercalaireFroid hauteur apres calibrage milieu\n",
              "            </td>\n",
              "        </tr>\n",
              "    \n",
              "        <tr style=\"background-color: hsl(120, 100.00%, 99.39%); border: none;\">\n",
              "            <td style=\"padding: 0 1em 0 0.5em; text-align: right; border: none;\">\n",
              "                0.0000\n",
              "                \n",
              "                    &plusmn; 0.0000\n",
              "                \n",
              "            </td>\n",
              "            <td style=\"padding: 0 0.5em 0 0.5em; text-align: left; border: none;\">\n",
              "                E24E25E37 IntercalaireFroid hauteur apres calibrage droit\n",
              "            </td>\n",
              "        </tr>\n",
              "    \n",
              "        <tr style=\"background-color: hsl(120, 100.00%, 99.48%); border: none;\">\n",
              "            <td style=\"padding: 0 1em 0 0.5em; text-align: right; border: none;\">\n",
              "                0.0000\n",
              "                \n",
              "                    &plusmn; 0.0000\n",
              "                \n",
              "            </td>\n",
              "            <td style=\"padding: 0 0.5em 0 0.5em; text-align: left; border: none;\">\n",
              "                E24E25E37 IntercalaireFroid hauteur apres calibrage droit Max\n",
              "            </td>\n",
              "        </tr>\n",
              "    \n",
              "        <tr style=\"background-color: hsl(120, 100.00%, 99.62%); border: none;\">\n",
              "            <td style=\"padding: 0 1em 0 0.5em; text-align: right; border: none;\">\n",
              "                0.0000\n",
              "                \n",
              "                    &plusmn; 0.0000\n",
              "                \n",
              "            </td>\n",
              "            <td style=\"padding: 0 0.5em 0 0.5em; text-align: left; border: none;\">\n",
              "                E24E25E37 IntercalaireFroid hauteur sorti formage droit\n",
              "            </td>\n",
              "        </tr>\n",
              "    \n",
              "    \n",
              "        \n",
              "            <tr style=\"background-color: hsl(120, 100.00%, 99.62%); border: none;\">\n",
              "                <td colspan=\"2\" style=\"padding: 0 0.5em 0 0.5em; text-align: center; border: none; white-space: nowrap;\">\n",
              "                    <i>&hellip; 17 more &hellip;</i>\n",
              "                </td>\n",
              "            </tr>\n",
              "        \n",
              "    \n",
              "    </tbody>\n",
              "</table>\n",
              "    \n",
              "\n",
              "    \n",
              "\n",
              "\n",
              "    \n",
              "\n",
              "    \n",
              "\n",
              "    \n",
              "\n",
              "    \n",
              "\n",
              "    \n",
              "\n",
              "    \n",
              "\n",
              "\n",
              "\n"
            ],
            "text/plain": [
              "<IPython.core.display.HTML object>"
            ]
          },
          "metadata": {
            "tags": []
          },
          "execution_count": 20
        }
      ]
    },
    {
      "cell_type": "code",
      "metadata": {
        "id": "7Y6LDDfDRNDB",
        "colab_type": "code",
        "colab": {
          "base_uri": "https://localhost:8080/",
          "height": 77
        },
        "outputId": "8dcd9539-5866-49cb-e77a-2da9ff964965"
      },
      "source": [
        "from sklearn.decomposition import PCA\n",
        "pca = PCA(n_components=2)\n",
        "principalComponents = pca.fit_transform(X)\n",
        "principalDf = pd.DataFrame(data = principalComponents\n",
        "             , columns = ['principal component 1', 'principal component 2'])\n",
        "dfy = pd.DataFrame(data = y\n",
        "             , columns = ['Class'])\n",
        "principalDf.head(1)"
      ],
      "execution_count": null,
      "outputs": [
        {
          "output_type": "execute_result",
          "data": {
            "text/html": [
              "<div>\n",
              "<style scoped>\n",
              "    .dataframe tbody tr th:only-of-type {\n",
              "        vertical-align: middle;\n",
              "    }\n",
              "\n",
              "    .dataframe tbody tr th {\n",
              "        vertical-align: top;\n",
              "    }\n",
              "\n",
              "    .dataframe thead th {\n",
              "        text-align: right;\n",
              "    }\n",
              "</style>\n",
              "<table border=\"1\" class=\"dataframe\">\n",
              "  <thead>\n",
              "    <tr style=\"text-align: right;\">\n",
              "      <th></th>\n",
              "      <th>principal component 1</th>\n",
              "      <th>principal component 2</th>\n",
              "    </tr>\n",
              "  </thead>\n",
              "  <tbody>\n",
              "    <tr>\n",
              "      <th>0</th>\n",
              "      <td>-0.12142</td>\n",
              "      <td>0.115413</td>\n",
              "    </tr>\n",
              "  </tbody>\n",
              "</table>\n",
              "</div>"
            ],
            "text/plain": [
              "   principal component 1  principal component 2\n",
              "0               -0.12142               0.115413"
            ]
          },
          "metadata": {
            "tags": []
          },
          "execution_count": 21
        }
      ]
    },
    {
      "cell_type": "code",
      "metadata": {
        "id": "rlNyz8cbTGRQ",
        "colab_type": "code",
        "colab": {
          "base_uri": "https://localhost:8080/",
          "height": 77
        },
        "outputId": "90fb6441-2493-4e58-fa3b-a784842f591c"
      },
      "source": [
        "finalDf = pd.concat([principalDf, dfy], axis = 1)\n",
        "finalDf.head(1)"
      ],
      "execution_count": null,
      "outputs": [
        {
          "output_type": "execute_result",
          "data": {
            "text/html": [
              "<div>\n",
              "<style scoped>\n",
              "    .dataframe tbody tr th:only-of-type {\n",
              "        vertical-align: middle;\n",
              "    }\n",
              "\n",
              "    .dataframe tbody tr th {\n",
              "        vertical-align: top;\n",
              "    }\n",
              "\n",
              "    .dataframe thead th {\n",
              "        text-align: right;\n",
              "    }\n",
              "</style>\n",
              "<table border=\"1\" class=\"dataframe\">\n",
              "  <thead>\n",
              "    <tr style=\"text-align: right;\">\n",
              "      <th></th>\n",
              "      <th>principal component 1</th>\n",
              "      <th>principal component 2</th>\n",
              "      <th>Class</th>\n",
              "    </tr>\n",
              "  </thead>\n",
              "  <tbody>\n",
              "    <tr>\n",
              "      <th>0</th>\n",
              "      <td>-0.12142</td>\n",
              "      <td>0.115413</td>\n",
              "      <td>0</td>\n",
              "    </tr>\n",
              "  </tbody>\n",
              "</table>\n",
              "</div>"
            ],
            "text/plain": [
              "   principal component 1  principal component 2  Class\n",
              "0               -0.12142               0.115413      0"
            ]
          },
          "metadata": {
            "tags": []
          },
          "execution_count": 22
        }
      ]
    },
    {
      "cell_type": "code",
      "metadata": {
        "id": "UiE4xdoMT_t_",
        "colab_type": "code",
        "colab": {}
      },
      "source": [
        "def get_z(rfc):\n",
        "    z = []\n",
        "    for pred, label in zip(rfc.predict(X), y.reshape(-1)):\n",
        "        if np.int(pred) == np.int(label):\n",
        "            z.append(1)\n",
        "        elif (np.int(pred) - np.int(label)) == -1:\n",
        "            z.append(2)\n",
        "        else:\n",
        "            z.append(3)\n",
        "    return np.array(z)"
      ],
      "execution_count": null,
      "outputs": []
    },
    {
      "cell_type": "code",
      "metadata": {
        "id": "I7X61oXAbWZe",
        "colab_type": "code",
        "colab": {}
      },
      "source": [
        "z = get_z(rfc)"
      ],
      "execution_count": null,
      "outputs": []
    },
    {
      "cell_type": "code",
      "metadata": {
        "id": "ANdlic4CTdoc",
        "colab_type": "code",
        "colab": {
          "base_uri": "https://localhost:8080/",
          "height": 523
        },
        "outputId": "39138bda-159a-499e-fb35-a248b197a851"
      },
      "source": [
        "fig = plt.figure(figsize = (8,8))\n",
        "ax = fig.add_subplot(1,1,1) \n",
        "ax.set_xlabel('Principal Component 1', fontsize = 15)\n",
        "ax.set_ylabel('Principal Component 2', fontsize = 15)\n",
        "ax.set_title('2 component PCA Random Forest', fontsize = 20)\n",
        "targets = [1, 2, 3]\n",
        "colors = ['b', 'r', 'g']\n",
        "for target, color in zip(targets,colors):\n",
        "    indicesToKeep = z == target\n",
        "    ax.scatter(finalDf.loc[indicesToKeep, 'principal component 1']\n",
        "               , finalDf.loc[indicesToKeep, 'principal component 2']\n",
        "               , c = color\n",
        "               , s = 25)\n",
        "ax.legend(['Good classification', 'Defect miss', 'Good class. miss'])\n",
        "ax.grid()"
      ],
      "execution_count": null,
      "outputs": [
        {
          "output_type": "display_data",
          "data": {
            "image/png": "[encoded data removed]",
            "text/plain": [
              "<Figure size 576x576 with 1 Axes>"
            ]
          },
          "metadata": {
            "tags": []
          }
        }
      ]
    },
    {
      "cell_type": "code",
      "metadata": {
        "id": "dobK_jPLd0fh",
        "colab_type": "code",
        "colab": {
          "base_uri": "https://localhost:8080/",
          "height": 523
        },
        "outputId": "04da7f85-71f9-45ca-d84a-ef8ee10a8c9a"
      },
      "source": [
        "z = get_z(ANN)\n",
        "fig = plt.figure(figsize = (8,8))\n",
        "ax = fig.add_subplot(1,1,1) \n",
        "ax.set_xlabel('Principal Component 1', fontsize = 15)\n",
        "ax.set_ylabel('Principal Component 2', fontsize = 15)\n",
        "ax.set_title('2 component PCA ANN', fontsize = 20)\n",
        "targets = [1, 2, 3]\n",
        "colors = ['b', 'r', 'g']\n",
        "for target, color in zip(targets,colors):\n",
        "    indicesToKeep = z == target\n",
        "    ax.scatter(finalDf.loc[indicesToKeep, 'principal component 1']\n",
        "               , finalDf.loc[indicesToKeep, 'principal component 2']\n",
        "               , c = color\n",
        "               , s = 25)\n",
        "ax.legend(['Good classification', 'Defect miss', 'Good class. miss'])\n",
        "ax.grid()"
      ],
      "execution_count": null,
      "outputs": [
        {
          "output_type": "display_data",
          "data": {
            "image/png": "[encoded data removed]",
            "text/plain": [
              "<Figure size 576x576 with 1 Axes>"
            ]
          },
          "metadata": {
            "tags": []
          }
        }
      ]
    },
    {
      "cell_type": "code",
      "metadata": {
        "id": "O78snlQWgnRI",
        "colab_type": "code",
        "colab": {
          "base_uri": "https://localhost:8080/",
          "height": 523
        },
        "outputId": "c896cc47-d5fa-44c3-b6d5-e5fa7adab337"
      },
      "source": [
        "i = 0\n",
        "dict1 = {}\n",
        "for col in df.columns:\n",
        "    dict1[col] = i\n",
        "    i+=1\n",
        "\n",
        "X1 = df.rename(columns = dict1, inplace = False)\n",
        "X1 = df.rename(columns = dict1, inplace = False)\n",
        "\n",
        "xgbC = XGBClassifier(n_estimators=200)\n",
        "xgbC.fit(X1,y.reshape(1,-1)[0])\n",
        "preds = xgbC.predict(X1)\n",
        "z = []\n",
        "for pred, label in zip(preds, y.reshape(-1)):\n",
        "    if np.int(pred) == np.int(label):\n",
        "        z.append(1)\n",
        "    elif (np.int(pred) - np.int(label)) == -1:\n",
        "        z.append(2)\n",
        "    else:\n",
        "        z.append(3)\n",
        "z = np.array(z)\n",
        "fig = plt.figure(figsize = (8,8))\n",
        "ax = fig.add_subplot(1,1,1) \n",
        "ax.set_xlabel('Principal Component 1', fontsize = 15)\n",
        "ax.set_ylabel('Principal Component 2', fontsize = 15)\n",
        "ax.set_title('2 component PCA XGboost', fontsize = 20)\n",
        "targets = [1, 2, 3]\n",
        "colors = ['b', 'r', 'g']\n",
        "for target, color in zip(targets,colors):\n",
        "    indicesToKeep = z == target\n",
        "    ax.scatter(finalDf.loc[indicesToKeep, 'principal component 1']\n",
        "               , finalDf.loc[indicesToKeep, 'principal component 2']\n",
        "               , c = color\n",
        "               , s = 25)\n",
        "ax.legend(['Good classification', 'Defect miss', 'Good class. miss'])\n",
        "ax.grid()"
      ],
      "execution_count": null,
      "outputs": [
        {
          "output_type": "display_data",
          "data": {
            "image/png": "[encoded data removed]",
            "text/plain": [
              "<Figure size 576x576 with 1 Axes>"
            ]
          },
          "metadata": {
            "tags": []
          }
        }
      ]
    }
  ]
}